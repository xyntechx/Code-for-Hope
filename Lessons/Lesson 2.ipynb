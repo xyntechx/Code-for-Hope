{
  "nbformat": 4,
  "nbformat_minor": 0,
  "metadata": {
    "colab": {
      "name": "Lesson 2",
      "provenance": [],
      "collapsed_sections": []
    },
    "kernelspec": {
      "name": "python3",
      "display_name": "Python 3"
    },
    "language_info": {
      "name": "python"
    }
  },
  "cells": [
    {
      "cell_type": "markdown",
      "metadata": {
        "id": "vcIjaoTSU2B2"
      },
      "source": [
        "# Welcome!\n",
        "\n",
        "Hello! Welcome to the notebook 📕 for Lesson 2!\n",
        "\n",
        "# Let's Get Started 🎉\n",
        "\n",
        "To run/activate a cell:\n",
        "- Click the **play icon ▶️** beside the cell, or\n",
        "- Press **cmd/shift + enter** (Mac) or **ctrl/shift + enter** (Windows) after selecting the cell"
      ]
    },
    {
      "cell_type": "markdown",
      "metadata": {
        "id": "TYrHNVl9BJfB"
      },
      "source": [
        "# Strings 🔤\n",
        "\n",
        "A string is a sequence of letters, special characters, spaces, and digits enclosed in quotation marks or single quotes.\n",
        "\n",
        "For example, `my_str = \"Mambo No. 5\"`."
      ]
    },
    {
      "cell_type": "markdown",
      "metadata": {
        "id": "ckarmx_eXi0Y"
      },
      "source": [
        "# String Concatenation ➕\n",
        "\n",
        "String Concatenation is adding strings to other strings!"
      ]
    },
    {
      "cell_type": "code",
      "metadata": {
        "id": "EiEE3RaiXMlg"
      },
      "source": [
        "name = \"My Name\" # Change me!\n",
        "greeting = \"Hello, \" + name\n",
        "age = 0 # Change me!\n",
        "\n",
        "print(greeting)\n",
        "print(\"Hello, \" + name)\n",
        "print(\"Hello,\", name)"
      ],
      "execution_count": null,
      "outputs": []
    },
    {
      "cell_type": "markdown",
      "metadata": {
        "id": "Tou_iLwGYit2"
      },
      "source": [
        "# input() 🤓\n",
        "\n",
        "This function reads a line from input, converts into a string, and returns it. You can put a prompt inside the parentheses of the function so that the users know what you are asking for, but the prompt is optional!"
      ]
    },
    {
      "cell_type": "code",
      "metadata": {
        "id": "qyhl5TunY256"
      },
      "source": [
        "your_name = input(\"Enter your name: \")\n",
        "print(\"Hi, \" + your_name + \"!\")"
      ],
      "execution_count": null,
      "outputs": []
    },
    {
      "cell_type": "code",
      "metadata": {
        "id": "uiGu1URAsJ58"
      },
      "source": [
        "number = input(\"Enter a number: \")\n",
        "result = number * 3\n",
        "print(\"Since number is a string, result is\", result)"
      ],
      "execution_count": null,
      "outputs": []
    },
    {
      "cell_type": "code",
      "metadata": {
        "id": "DRBx18M5sKYH"
      },
      "source": [
        "new_number = int(number)\n",
        "new_result = new_number * 3\n",
        "print(\"Since new_number is an int, new_result is\", new_result)"
      ],
      "execution_count": null,
      "outputs": []
    },
    {
      "cell_type": "markdown",
      "metadata": {
        "id": "kM3N0RJFaDr4"
      },
      "source": [
        "# len() 📏\n",
        "\n",
        "This function outputs the length of the string (and other data types you will learn soon) you put inside the parentheses.\n",
        "\n",
        "Feel free to change the value of `my_str` if you want to experiment more!"
      ]
    },
    {
      "cell_type": "code",
      "metadata": {
        "id": "hz_rINIFY6Uh"
      },
      "source": [
        "my_str = \"how are you?\" # Change me!\n",
        "print(len(my_str))"
      ],
      "execution_count": null,
      "outputs": []
    },
    {
      "cell_type": "markdown",
      "metadata": {
        "id": "RUxyZQofahDD"
      },
      "source": [
        "# Indexing #️⃣\n",
        "\n",
        "Use this concept to find the character/element at a certain position in a string!\n",
        "\n",
        "This is how you do indexing: `string[index]`!\n",
        "\n",
        "P.S. Again, don't be afraid to change the code below! The more you change, the more you experiment, the more you learn."
      ]
    },
    {
      "cell_type": "code",
      "metadata": {
        "id": "iaqWc8ZNbA02"
      },
      "source": [
        "text = \"this is a random text\"\n",
        "first = text[0]\n",
        "fifth = text[4]\n",
        "third_last = text[-3]"
      ],
      "execution_count": null,
      "outputs": []
    },
    {
      "cell_type": "code",
      "metadata": {
        "id": "as0tlmeXwMWy"
      },
      "source": [
        "print(first)"
      ],
      "execution_count": null,
      "outputs": []
    },
    {
      "cell_type": "code",
      "metadata": {
        "id": "VsuSE1ZEwMiL"
      },
      "source": [
        "print(fifth)"
      ],
      "execution_count": null,
      "outputs": []
    },
    {
      "cell_type": "code",
      "metadata": {
        "id": "XMJzvl5swMyO"
      },
      "source": [
        "print(third_last)"
      ],
      "execution_count": null,
      "outputs": []
    },
    {
      "cell_type": "markdown",
      "metadata": {
        "id": "KwoAtDZntrtz"
      },
      "source": [
        "## Bonus Exercise\n",
        "\n",
        "Use indexing to print out every space in `text`"
      ]
    },
    {
      "cell_type": "code",
      "metadata": {
        "id": "eU1CZT3Mtptv"
      },
      "source": [
        "text = \"this is a random text\"\n",
        "# Write your code in this cell\n",
        "\n",
        "\n"
      ],
      "execution_count": null,
      "outputs": []
    },
    {
      "cell_type": "markdown",
      "metadata": {
        "id": "snUYscduccMh"
      },
      "source": [
        "# Slicing 🔪\n",
        "\n",
        "Let's chop up some strings to make substrings!\n",
        "\n",
        "Here's how you slice a string: `string[start: stop: step]`."
      ]
    },
    {
      "cell_type": "code",
      "metadata": {
        "id": "Ln4npO-Kbd5r"
      },
      "source": [
        "s = \"abcdefgh\"\n",
        "sub_one = s[3:6]\n",
        "sub_two = s[3:6:2]\n",
        "sub_three = s[::]\n",
        "sub_four = s[::-1]"
      ],
      "execution_count": null,
      "outputs": []
    },
    {
      "cell_type": "code",
      "metadata": {
        "id": "O0hkYVgHv487"
      },
      "source": [
        "print(sub_one)"
      ],
      "execution_count": null,
      "outputs": []
    },
    {
      "cell_type": "code",
      "metadata": {
        "id": "JtBZc-ntv5T5"
      },
      "source": [
        "print(sub_two)"
      ],
      "execution_count": null,
      "outputs": []
    },
    {
      "cell_type": "code",
      "metadata": {
        "id": "HqxNPxv5v5g1"
      },
      "source": [
        "print(sub_three)"
      ],
      "execution_count": null,
      "outputs": []
    },
    {
      "cell_type": "code",
      "metadata": {
        "id": "_Xz3MsUhv53O"
      },
      "source": [
        "print(sub_four)"
      ],
      "execution_count": null,
      "outputs": []
    },
    {
      "cell_type": "markdown",
      "metadata": {
        "id": "knSUQwlrdNpm"
      },
      "source": [
        "# Comparison Operators ⚖️\n",
        "\n",
        "Comparison operators are very useful in coding. They compare integers, floats, and strings to produce booleans. Hence, these operators enable us to make logical expressions that build the foundation of many simple and complex programs!\n",
        "\n",
        "Here are the comparison operators you will often use:\n",
        "- equal to `==`\n",
        "- not equal to `!=`\n",
        "- more than `>`\n",
        "- more than or equal to `>=`\n",
        "- less than `<`\n",
        "- less than or equal to `<=`\n",
        "\n",
        "Change the values of `i` and `j` to see how the output changes when different values are used!"
      ]
    },
    {
      "cell_type": "code",
      "metadata": {
        "id": "dBs4UHHVd5Hl"
      },
      "source": [
        "i = 25 # Change me!\n",
        "j = 25 # Change me!"
      ],
      "execution_count": null,
      "outputs": []
    },
    {
      "cell_type": "code",
      "metadata": {
        "id": "PRRfZANiyNAY"
      },
      "source": [
        "print(i == j)"
      ],
      "execution_count": null,
      "outputs": []
    },
    {
      "cell_type": "code",
      "metadata": {
        "id": "59VRK3p_yNMu"
      },
      "source": [
        "print(i != j)"
      ],
      "execution_count": null,
      "outputs": []
    },
    {
      "cell_type": "code",
      "metadata": {
        "id": "bMF30bd6yMR6"
      },
      "source": [
        "print(i > j)"
      ],
      "execution_count": null,
      "outputs": []
    },
    {
      "cell_type": "code",
      "metadata": {
        "id": "f8Shb6qDyMdl"
      },
      "source": [
        "print(i >= j)"
      ],
      "execution_count": null,
      "outputs": []
    },
    {
      "cell_type": "code",
      "metadata": {
        "id": "JtA67YWEyMnh"
      },
      "source": [
        "print(i < j)"
      ],
      "execution_count": null,
      "outputs": []
    },
    {
      "cell_type": "code",
      "metadata": {
        "id": "9fCyV_ibyM0d"
      },
      "source": [
        "print(i <= j)"
      ],
      "execution_count": null,
      "outputs": []
    },
    {
      "cell_type": "markdown",
      "metadata": {
        "id": "zTHIOIRjyf46"
      },
      "source": [
        "## Comparison Operators... on Strings? 🙀\n",
        "\n",
        "### Example 1\n",
        "\n",
        "Can you predict the output of this code?\n",
        "\n",
        "```python\n",
        "str_one = \"hello\"\n",
        "str_two = \"hello\"\n",
        "print(str_one == str_two)\n",
        "```\n",
        "\n",
        "Let's check your answer!"
      ]
    },
    {
      "cell_type": "code",
      "metadata": {
        "id": "VkICynNzziG_"
      },
      "source": [
        "str_one = \"hello\"\n",
        "str_two = \"hello\"\n",
        "print(str_one == str_two)"
      ],
      "execution_count": null,
      "outputs": []
    },
    {
      "cell_type": "markdown",
      "metadata": {
        "id": "0OCMZaVwznrv"
      },
      "source": [
        "The comparison operator compares the string character by character. This means that `\"hello\"` is equal to `\"hello\"`, but not to `\"Hello\"`, `olleh`, or any other string.\n",
        "\n",
        "Let's prove it by running the cell below!"
      ]
    },
    {
      "cell_type": "code",
      "metadata": {
        "id": "-IyWOd7zzmiy"
      },
      "source": [
        "str_three = \"Hello\"\n",
        "print(str_one == str_three)"
      ],
      "execution_count": null,
      "outputs": []
    },
    {
      "cell_type": "code",
      "metadata": {
        "id": "Ge8Z7iH80F2T"
      },
      "source": [
        "str_four = \"olleh\"\n",
        "print(str_one == str_four)"
      ],
      "execution_count": null,
      "outputs": []
    },
    {
      "cell_type": "markdown",
      "metadata": {
        "id": "_0a3MYBq0SiI"
      },
      "source": [
        "### Example 2\n",
        "\n",
        "Can you predict the output of this code?\n",
        "\n",
        "```python\n",
        "str_five = \"hi\"\n",
        "str_six = \"z\"\n",
        "print(str_five < str_six)\n",
        "```\n",
        "\n",
        "Let's find out!"
      ]
    },
    {
      "cell_type": "code",
      "metadata": {
        "id": "_OTCRl3C0SAg"
      },
      "source": [
        "str_five = \"hi\"\n",
        "str_six = \"z\"\n",
        "print(str_five < str_six)"
      ],
      "execution_count": null,
      "outputs": []
    },
    {
      "cell_type": "markdown",
      "metadata": {
        "id": "Y8vbmxYd03LQ"
      },
      "source": [
        "Wait... since `\"z\"` is only 1 character long while `\"hi\"` is 2 characters long, shouldn't `\"z\"` be smaller than `\"hi\"`? In Python, this isn't the case! Sure, `\"z\"` is shorter than `\"hi\"`, but the comparison operator doesn't compare the lengths. Instead, what is being judged here is the position of `h` in `\"hi\"` and `z` in `\"z\"` relative to each other!\n",
        "\n",
        "Since `h` comes before `z` in the alphabet, `h` is less than `z`, causing `\"hi\"` to be less than `\"z\"`."
      ]
    },
    {
      "cell_type": "markdown",
      "metadata": {
        "id": "ehUgELUQgQLa"
      },
      "source": [
        "# Logic Operators 🤔\n",
        "\n",
        "Logic operators are also very useful in coding. Unlike comparison operators, logic operators work on booleans to produce another boolean. These operators, along with comparison operators, enable us to make logical expressions that build the foundation of many simple and complex programs!\n",
        "\n",
        "Here are the logic operators you will often use:\n",
        "- `and`\n",
        "- `or`\n",
        "- `not`"
      ]
    },
    {
      "cell_type": "code",
      "metadata": {
        "id": "VdR5r3mTjPyI"
      },
      "source": [
        "a = True\n",
        "b = False\n",
        "c = True"
      ],
      "execution_count": null,
      "outputs": []
    },
    {
      "cell_type": "code",
      "metadata": {
        "id": "WQImQnzi2tfz"
      },
      "source": [
        "print(not a)"
      ],
      "execution_count": null,
      "outputs": []
    },
    {
      "cell_type": "code",
      "metadata": {
        "id": "-xUO7Kvm2ttu"
      },
      "source": [
        "print(not b)"
      ],
      "execution_count": null,
      "outputs": []
    },
    {
      "cell_type": "code",
      "metadata": {
        "id": "vDKkGmaJ2t5n"
      },
      "source": [
        "print(a or b)"
      ],
      "execution_count": null,
      "outputs": []
    },
    {
      "cell_type": "code",
      "metadata": {
        "id": "V_EAD-Jm2uIz"
      },
      "source": [
        "print(a or c)"
      ],
      "execution_count": null,
      "outputs": []
    },
    {
      "cell_type": "code",
      "metadata": {
        "id": "NCknGw3d2uUW"
      },
      "source": [
        "print(a and b)"
      ],
      "execution_count": null,
      "outputs": []
    },
    {
      "cell_type": "code",
      "metadata": {
        "id": "SU9YirkR2ujx"
      },
      "source": [
        "print(a and c)"
      ],
      "execution_count": null,
      "outputs": []
    },
    {
      "cell_type": "markdown",
      "metadata": {
        "id": "dDVQ3Jus23Yo"
      },
      "source": [
        "# If/Else Statements 🚦\n",
        "\n",
        "If/else statements controls the flow of your program. You can think of them as lollipop ladies trying to control the traffic based on the current situation.\n",
        "\n",
        "One thing to remember is that when writing if/else statements, the `if` block is compulsory, but the `elif` and `else` blocks are not.\n",
        "\n",
        "```python\n",
        "if x == y:\n",
        "  print(\"x is equal to y\")\n",
        "```\n",
        "This is correct.\n",
        "\n",
        "```python\n",
        "if x == y:\n",
        "  print(\"x is equal to y\")\n",
        "else:\n",
        "  pass\n",
        "```\n",
        "This is also correct.\n",
        "\n",
        "In fact, the two blocks of code above work exactly the same!"
      ]
    },
    {
      "cell_type": "code",
      "metadata": {
        "id": "mWoBo-Fa45Vt"
      },
      "source": [
        "x = int(input(\"x: \"))\n",
        "y = int(input(\"y: \"))\n",
        "\n",
        "if x == y:\n",
        "\tprint(\"x is equal to y\")\n",
        "elif x > y:\n",
        "\tprint(\"x is more than y\")\n",
        "elif x < y:\n",
        "\tprint(\"x is less than y\")"
      ],
      "execution_count": null,
      "outputs": []
    },
    {
      "cell_type": "markdown",
      "metadata": {
        "id": "FFHSMM-r5Wde"
      },
      "source": [
        "# Loops 🔁\n",
        "\n",
        "In Python, the two loops that we can use are `while` and `for` loops. They are similar but one works better than the other depending on the problem to solve!"
      ]
    },
    {
      "cell_type": "markdown",
      "metadata": {
        "id": "kN8Xm2F_6kGo"
      },
      "source": [
        "## While Loops\n",
        "\n",
        "These loops execute all the code in the code block while the condition is true."
      ]
    },
    {
      "cell_type": "code",
      "metadata": {
        "id": "1KwDXn9s6vCe"
      },
      "source": [
        "i = 0\n",
        "while i < 5:\n",
        "\tprint(i*2)\n",
        "\ti += 1"
      ],
      "execution_count": null,
      "outputs": []
    },
    {
      "cell_type": "markdown",
      "metadata": {
        "id": "zWzriD1Q6yaO"
      },
      "source": [
        "## For Loops\n",
        "\n",
        "These loops iterate over a set of values."
      ]
    },
    {
      "cell_type": "code",
      "metadata": {
        "id": "TKDqQFkD66hH"
      },
      "source": [
        "for i in range(5):\n",
        "\tprint(i*2)"
      ],
      "execution_count": null,
      "outputs": []
    },
    {
      "cell_type": "code",
      "metadata": {
        "id": "W0a1cqnt7Cse"
      },
      "source": [
        "string = \"Python is Fun!\"\n",
        "\n",
        "for char in string:\n",
        "\tprint(char)"
      ],
      "execution_count": null,
      "outputs": []
    },
    {
      "cell_type": "markdown",
      "metadata": {
        "id": "Ut4rWkBh7Yp-"
      },
      "source": [
        "The code above can be written like the code below, and it will still do the same thing!"
      ]
    },
    {
      "cell_type": "code",
      "metadata": {
        "id": "v9f5NWBl7QQB"
      },
      "source": [
        "for index in range(len(string)):\n",
        "\tprint(string[index])"
      ],
      "execution_count": null,
      "outputs": []
    },
    {
      "cell_type": "code",
      "metadata": {
        "id": "DylW_auo7Hf6"
      },
      "source": [
        "x = 2\n",
        "\n",
        "for i in range(10):\n",
        "\tx += i\n",
        "\tprint(\"Still in the loop\")\n",
        "\tprint(\"x =\", x)\n",
        "\tif x == 8:\n",
        "\t\tbreak\n",
        "\n",
        "print(\"\\nFinal value of x =\", x)"
      ],
      "execution_count": null,
      "outputs": []
    },
    {
      "cell_type": "markdown",
      "metadata": {
        "id": "o9j6RE47mGBR"
      },
      "source": [
        "# Congratulations 🎉\n",
        "\n",
        "You've finished the notebook 📕 for Lesson 2! To get a good understanding, continue to experiment with the code above. For further (optional) practice, go to [Practice Notebook 2](https://colab.research.google.com/drive/1PDleFIZ4h1GfrNqkmErT499Ya32cRLZb?usp=sharing). After all, the only way to learn is by trying!\n",
        "\n",
        "**💻 with ❤️ by Code for Hope**"
      ]
    }
  ]
}