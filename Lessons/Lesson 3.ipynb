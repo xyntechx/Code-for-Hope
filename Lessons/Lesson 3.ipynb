{
  "nbformat": 4,
  "nbformat_minor": 0,
  "metadata": {
    "colab": {
      "name": "Lesson 3",
      "provenance": [],
      "collapsed_sections": []
    },
    "kernelspec": {
      "name": "python3",
      "display_name": "Python 3"
    },
    "language_info": {
      "name": "python"
    }
  },
  "cells": [
    {
      "cell_type": "markdown",
      "metadata": {
        "id": "vcIjaoTSU2B2"
      },
      "source": [
        "# Welcome!\n",
        "\n",
        "Hello! Welcome to the notebook 📕 for Lesson 3!\n",
        "\n",
        "# Let's Get Started 🎉\n",
        "\n",
        "To run/activate a cell:\n",
        "- Click the **play icon ▶️** beside the cell, or\n",
        "- Press **cmd/shift + enter** (Mac) or **ctrl/shift + enter** (Windows) after selecting the cell"
      ]
    },
    {
      "cell_type": "markdown",
      "metadata": {
        "id": "ckarmx_eXi0Y"
      },
      "source": [
        "# Functions 📁\n",
        "\n",
        "Functions are reusable blocks of code, and are one of the most important basic concepts in programming. With functions, you can write so much cooler and more useful programs. Moreover, as functions achieve the aims of Decomposition (dividing code into sections) and Abstraction (hiding tedious details), your code will be neater, making it more reusable in the future!\n",
        "\n",
        "Written below are some examples of functions that do very simple things, such as addition for `add()` and determining whether an integer is even or odd for `even_or_odd()`."
      ]
    },
    {
      "cell_type": "code",
      "metadata": {
        "id": "EiEE3RaiXMlg"
      },
      "source": [
        "def add(x, y):\n",
        "\treturn x + y\n",
        "\n",
        "def even_or_odd(i):\n",
        "\tif i % 2: # Recall: the modulo (remainder) operator\n",
        "\t\treturn \"odd\"\n",
        "\treturn \"even\""
      ],
      "execution_count": null,
      "outputs": []
    },
    {
      "cell_type": "code",
      "metadata": {
        "id": "U060m7OvL_e6"
      },
      "source": [
        "num1 = int(input(\"num1: \"))\n",
        "num2 = int(input(\"num2: \"))\n",
        "my_sum = add(num1, num2)\n",
        "print(\"my_sum is\", my_sum)"
      ],
      "execution_count": null,
      "outputs": []
    },
    {
      "cell_type": "code",
      "metadata": {
        "id": "-J8jSR5YMBnF"
      },
      "source": [
        "num_to_check = int(input(\"Enter a number: \"))\n",
        "my_ans = even_or_odd(num_to_check)\n",
        "print(num_to_check, \"is\", my_ans)"
      ],
      "execution_count": null,
      "outputs": []
    },
    {
      "cell_type": "markdown",
      "metadata": {
        "id": "JGlZK3GbLdve"
      },
      "source": [
        "Let's use `add()` and `even_or_odd()` together!"
      ]
    },
    {
      "cell_type": "code",
      "metadata": {
        "id": "K3UquJelLdDr"
      },
      "source": [
        "num3 = int(input(\"num3: \"))\n",
        "num4 = int(input(\"num4: \"))\n",
        "print(\"The sum of\", num3, \"and\", num4, \"is an\", even_or_odd(add(num3, num4)), \"number.\")"
      ],
      "execution_count": null,
      "outputs": []
    },
    {
      "cell_type": "markdown",
      "metadata": {
        "id": "YT_rpnNrMTxq"
      },
      "source": [
        "Let's try something more difficult!\n",
        "\n",
        "`find_char()` is a more complicated function, but I'm sure you can understand how it works by walking through the thought process yourself!"
      ]
    },
    {
      "cell_type": "code",
      "metadata": {
        "id": "_BlFBd4CNq87"
      },
      "source": [
        "def find_char(char, string):\n",
        "\tfor elem in string:\n",
        "\t\tif elem == char:\n",
        "\t\t\treturn char + \" is at index \" + str(string.index(char))\n",
        "\treturn char + \" is not in '\" + string + \"'\""
      ],
      "execution_count": null,
      "outputs": []
    },
    {
      "cell_type": "code",
      "metadata": {
        "id": "YWU1ehHYPnHD"
      },
      "source": [
        "char = input(\"Enter a character: \")\n",
        "string = \"I thought that I have been hurt before\" # Stitches by Shawn Mendes\n",
        "print(find_char(char, string))"
      ],
      "execution_count": null,
      "outputs": []
    },
    {
      "cell_type": "markdown",
      "metadata": {
        "id": "M9HaoqpeLMni"
      },
      "source": [
        "## Bonus Exercise\n",
        "\n",
        "Make your own function! Get creative :D"
      ]
    },
    {
      "cell_type": "code",
      "metadata": {
        "id": "yRmIJ_gQLI9Q"
      },
      "source": [
        "# Write your code in this cell\n",
        "\n",
        "\n"
      ],
      "execution_count": null,
      "outputs": []
    },
    {
      "cell_type": "markdown",
      "metadata": {
        "id": "Tou_iLwGYit2"
      },
      "source": [
        "# Tuples ⛓\n",
        "\n",
        "A tuple is an immutable (unchangeable) ordered sequence of elements represented with parentheses. Even though they are not used as often as lists, they are still useful to learn! In fact, one of the most 'hacky' ways to swap variables is by using tuples as shown in the cell below!"
      ]
    },
    {
      "cell_type": "code",
      "metadata": {
        "id": "qyhl5TunY256"
      },
      "source": [
        "x = 4\n",
        "y = 7\n",
        "\n",
        "(x, y) = (y, x) # OR x, y = y, x\n",
        "\n",
        "print(\"x:\", x, \"\\ty:\", y)"
      ],
      "execution_count": null,
      "outputs": []
    },
    {
      "cell_type": "markdown",
      "metadata": {
        "id": "NLjWhM5zSuxP"
      },
      "source": [
        "Tuples can also be used to return multiple values from a function."
      ]
    },
    {
      "cell_type": "code",
      "metadata": {
        "id": "SX-n57gjSy14"
      },
      "source": [
        "def divide(a, b):\n",
        "\tq = a // b\n",
        "\tr = a % b\n",
        "\treturn (q, r)"
      ],
      "execution_count": null,
      "outputs": []
    },
    {
      "cell_type": "code",
      "metadata": {
        "id": "ePjotxYHS3EO"
      },
      "source": [
        "a = int(input(\"a: \"))\n",
        "b = int(input(\"b: \"))\n",
        "\n",
        "result = divide(a, b)\n",
        "\n",
        "print(\"quotient:\", result[0])\n",
        "print(\"remainder:\", result[1])"
      ],
      "execution_count": null,
      "outputs": []
    },
    {
      "cell_type": "markdown",
      "metadata": {
        "id": "iR6KMGAUVy0J"
      },
      "source": [
        "Now, let's loop through `my_tuple` to print out each of its elements!"
      ]
    },
    {
      "cell_type": "code",
      "metadata": {
        "id": "eXRQu8jdV8-6"
      },
      "source": [
        "my_tuple = (65, 87, 92, 37)\n",
        "\n",
        "for score in my_tuple:\n",
        "\tprint(\"Score\", my_tuple.index(score) + 1, \"is\", score)"
      ],
      "execution_count": null,
      "outputs": []
    },
    {
      "cell_type": "markdown",
      "metadata": {
        "id": "qwOdwhtRWJvs"
      },
      "source": [
        "You can also do it this way:"
      ]
    },
    {
      "cell_type": "code",
      "metadata": {
        "id": "d8fem-pxWMtN"
      },
      "source": [
        "for index in range(len(my_tuple)):\n",
        "\tprint(\"Score\", index + 1, \"is\", my_tuple[index])"
      ],
      "execution_count": null,
      "outputs": []
    },
    {
      "cell_type": "markdown",
      "metadata": {
        "id": "kM3N0RJFaDr4"
      },
      "source": [
        "# Lists 🗄\n",
        "\n",
        "A list is a mutable ordered sequence of elements represented with square brackets. Lists are very useful in programming and (in my opinion) are used in almost every program anyone has ever written!"
      ]
    },
    {
      "cell_type": "code",
      "metadata": {
        "id": "hz_rINIFY6Uh"
      },
      "source": [
        "def change_name(name_list, old_name, new_name):\n",
        "  if old_name in name_list:\n",
        "    index = name_list.index(old_name)\n",
        "    name_list[index] = new_name\n",
        "    return name_list"
      ],
      "execution_count": null,
      "outputs": []
    },
    {
      "cell_type": "code",
      "metadata": {
        "id": "_GW3kZk5TKH0"
      },
      "source": [
        "name_list = []\n",
        "\n",
        "number_of_names = int(input(\"Number of names: \"))\n",
        "for i in range(number_of_names):\n",
        "  name = input(\"Name \" + str(i+1) + \": \")\n",
        "  name_list.append(name)\n",
        "\n",
        "print(name_list)"
      ],
      "execution_count": null,
      "outputs": []
    },
    {
      "cell_type": "code",
      "metadata": {
        "id": "C2cy2A8QUCPB"
      },
      "source": [
        "while True:\n",
        "  old_name = input(\"Name to change: \")\n",
        "  new_name = input(\"New name: \")\n",
        "  name_list = change_name(name_list, old_name, new_name)\n",
        "  continue_query = input(\"Continue [Y/N]? \")\n",
        "  if continue_query.upper() == \"N\":\n",
        "    break\n",
        "\n",
        "print(\"The names in the name list are:\", end=\" \")\n",
        "for name in name_list:\n",
        "  print(name, end=\", \")"
      ],
      "execution_count": null,
      "outputs": []
    },
    {
      "cell_type": "markdown",
      "metadata": {
        "id": "NHQRxwLYXOA3"
      },
      "source": [
        "The cell below is for you to try out the different operations on lists! We have used `.append()` in the exercise above, so don't be afraid to try out the others.\n",
        "\n",
        "Here are some functions you can experiment with (Google for more!):\n",
        "- `.append()`\n",
        "- `.remove()`\n",
        "- `.pop()`\n",
        "- `del()`\n",
        "- `sorted()`\n",
        "- `.sort()`\n",
        "- `.reverse()`"
      ]
    },
    {
      "cell_type": "code",
      "metadata": {
        "id": "cjlQGqV7XNed"
      },
      "source": [
        "# Write your code in this cell\n",
        "\n",
        "\n"
      ],
      "execution_count": null,
      "outputs": []
    },
    {
      "cell_type": "markdown",
      "metadata": {
        "id": "RUxyZQofahDD"
      },
      "source": [
        "# Lists ➡️ Strings\n",
        "\n",
        "Let's now use `.join()` to convert a list to a string!"
      ]
    },
    {
      "cell_type": "code",
      "metadata": {
        "id": "iaqWc8ZNbA02"
      },
      "source": [
        "greet_list = [\"h\", \"e\", \"l\", \"l\", \"o\"]\n",
        "greet_string = \"hello\"\n",
        "long_string = \"h o w a r e y o u\"\n",
        "extra_string = \"w!h!a!t!i!s!t!h!i!s\""
      ],
      "execution_count": null,
      "outputs": []
    },
    {
      "cell_type": "code",
      "metadata": {
        "id": "EwGVc772ZahK"
      },
      "source": [
        "print(\"\".join(greet_list))"
      ],
      "execution_count": null,
      "outputs": []
    },
    {
      "cell_type": "code",
      "metadata": {
        "id": "elhFFcuOZa6V"
      },
      "source": [
        "print(\" \".join(greet_list))"
      ],
      "execution_count": null,
      "outputs": []
    },
    {
      "cell_type": "code",
      "metadata": {
        "id": "oW5tZG8gZbOY"
      },
      "source": [
        "print(\".\".join(greet_list))"
      ],
      "execution_count": null,
      "outputs": []
    },
    {
      "cell_type": "markdown",
      "metadata": {
        "id": "d1xm2gcsZKVD"
      },
      "source": [
        "# Strings ➡️ Lists\n",
        "\n",
        "Let's now use `.split()` to convert a string to a list!"
      ]
    },
    {
      "cell_type": "code",
      "metadata": {
        "id": "as0tlmeXwMWy"
      },
      "source": [
        "print(greet_string.split())"
      ],
      "execution_count": null,
      "outputs": []
    },
    {
      "cell_type": "code",
      "metadata": {
        "id": "VsuSE1ZEwMiL"
      },
      "source": [
        "print(long_string.split())"
      ],
      "execution_count": null,
      "outputs": []
    },
    {
      "cell_type": "code",
      "metadata": {
        "id": "S1Ey5yOJZqtV"
      },
      "source": [
        "print(list(long_string))"
      ],
      "execution_count": null,
      "outputs": []
    },
    {
      "cell_type": "code",
      "metadata": {
        "id": "XMJzvl5swMyO"
      },
      "source": [
        "print(extra_string.split(\"!\"))"
      ],
      "execution_count": null,
      "outputs": []
    },
    {
      "cell_type": "markdown",
      "metadata": {
        "id": "snUYscduccMh"
      },
      "source": [
        "# Dictionaries 📚\n",
        "\n",
        "Dictionaries are data structures consisting of key-value pairs represented with curly braces. Dictionary keys must be unique and immutable, while values can be duplicates and mutable/immutable.\n",
        "\n",
        "Note: dictionaries are different from tuples and lists since their elements are not alone, but in key-value pairs.\n",
        "\n",
        "Let's make a collection of the math test marks of all the names in our `name_list` from before! Our dictionary will be called `name_to_marks`, having the names as the keys and the marks as the values."
      ]
    },
    {
      "cell_type": "code",
      "metadata": {
        "id": "Ln4npO-Kbd5r"
      },
      "source": [
        "print(name_list)"
      ],
      "execution_count": null,
      "outputs": []
    },
    {
      "cell_type": "code",
      "metadata": {
        "id": "O0hkYVgHv487"
      },
      "source": [
        "name_to_marks = {}\n",
        "\n",
        "for name in name_list:\n",
        "  marks = int(input(\"Marks of \" + name + \": \"))\n",
        "  name_to_marks[name] = marks"
      ],
      "execution_count": null,
      "outputs": []
    },
    {
      "cell_type": "code",
      "metadata": {
        "id": "JtBZc-ntv5T5"
      },
      "source": [
        "for name in name_to_marks:\n",
        "\tprint(name, \"scored\", name_to_marks[name])"
      ],
      "execution_count": null,
      "outputs": []
    },
    {
      "cell_type": "code",
      "metadata": {
        "id": "0uyjWxEpcJ7d"
      },
      "source": [
        "student_name = input(\"Enter a name: \")\n",
        "if student_name in name_to_marks:\n",
        "\tprint(student_name, \"has taken the exam!\")\n",
        "else:\n",
        "\tprint(student_name, \"has not taken the exam!\")"
      ],
      "execution_count": null,
      "outputs": []
    },
    {
      "cell_type": "markdown",
      "metadata": {
        "id": "yn550i9zcoIM"
      },
      "source": [
        "The cell below is for you to mess around with `name_to_marks`. Apply what you have learnt about dictionaries and the operations we can do on them!"
      ]
    },
    {
      "cell_type": "code",
      "metadata": {
        "id": "iQFBFacNc551"
      },
      "source": [
        "# Write your code in this cell\n",
        "\n",
        "\n"
      ],
      "execution_count": null,
      "outputs": []
    },
    {
      "cell_type": "markdown",
      "metadata": {
        "id": "o9j6RE47mGBR"
      },
      "source": [
        "# Congratulations 🎉\n",
        "\n",
        "You've finished the notebook 📕 for Lesson 3! To get a good understanding, continue to experiment with the code above. For further (optional) practice, go to [Practice Notebook 3](https://colab.research.google.com/drive/1Q_ebzNxxYPHQe5erEhtHYFvz-EkSxjaJ?usp=sharing). After all, the only way to learn is by trying!\n",
        "\n",
        "**💻 with ❤️ by Code for Hope**"
      ]
    }
  ]
}