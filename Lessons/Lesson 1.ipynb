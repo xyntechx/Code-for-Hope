{
  "nbformat": 4,
  "nbformat_minor": 0,
  "metadata": {
    "colab": {
      "name": "Lesson 1",
      "provenance": [],
      "collapsed_sections": []
    },
    "kernelspec": {
      "name": "python3",
      "display_name": "Python 3"
    },
    "language_info": {
      "name": "python"
    }
  },
  "cells": [
    {
      "cell_type": "markdown",
      "metadata": {
        "id": "vcIjaoTSU2B2"
      },
      "source": [
        "# Welcome!\n",
        "\n",
        "Hello! Welcome to the notebook 📕 for Lesson 1!\n",
        "\n",
        "# Let's Get Started 🎉\n",
        "\n",
        "To run/activate a cell:\n",
        "- Click the **play icon ▶️** beside the cell, or\n",
        "- Press **cmd/shift + enter** (Mac) or **ctrl/shift + enter** (Windows) after selecting the cell"
      ]
    },
    {
      "cell_type": "markdown",
      "metadata": {
        "id": "3P2q7wNP9GIO"
      },
      "source": [
        "# Programming 💻\n",
        "\n",
        "Programming is basically solving problems using code. With these skills, you will be able to make useful and fun projects in many fields, including game development, machine learning, and many more!\n",
        "\n",
        "One thing to remember: computers only do what you tell them to do! This means that when you get errors, it is **your** own fault, which is a good and bad thing. It is a good thing because **you** can simply fix **your** own mistakes, but it is a bad thing because more often than not, **you** do not even know what mistakes **you** have made!"
      ]
    },
    {
      "cell_type": "markdown",
      "metadata": {
        "id": "dJ_MzOpF_FZt"
      },
      "source": [
        "# Using Google Colab 🔧\n",
        "\n",
        "In Google Colab, you write code in **cells**, and you can see the output of your code after running those cells.\n",
        "\n",
        "⬇️ Try running the cell below ⬇️"
      ]
    },
    {
      "cell_type": "code",
      "metadata": {
        "id": "4ahArpwBVfz0"
      },
      "source": [
        "print(\"Hello, World!\")"
      ],
      "execution_count": null,
      "outputs": []
    },
    {
      "cell_type": "markdown",
      "metadata": {
        "id": "kDHXwbbSXQoN"
      },
      "source": [
        "As you can see, in Google Colab, you can write code in each cell, and you can see the output of your code by running each cell!"
      ]
    },
    {
      "cell_type": "markdown",
      "metadata": {
        "id": "ckarmx_eXi0Y"
      },
      "source": [
        "# Comments 💬\n",
        "\n",
        "Comments are notes that you write in your code file! The computer actually ignores your comments, so they are just there to help you and other coders understand what's going on in your code."
      ]
    },
    {
      "cell_type": "code",
      "metadata": {
        "id": "EiEE3RaiXMlg"
      },
      "source": [
        "# This is a comment\n",
        "\n",
        "''' This is also a comment\n",
        "but instead of being on a single line,\n",
        "this comment is written on multiple lines '''\n",
        "# Tip: to comment/uncomment multiple lines, use 'cmd + /' or 'ctrl + /'"
      ],
      "execution_count": null,
      "outputs": []
    },
    {
      "cell_type": "markdown",
      "metadata": {
        "id": "Tou_iLwGYit2"
      },
      "source": [
        "# print() 🖨\n",
        "\n",
        "You've seen the print statement in this notebook. What it does is it prints out whatever you put inside the parentheses."
      ]
    },
    {
      "cell_type": "code",
      "metadata": {
        "id": "qyhl5TunY256"
      },
      "source": [
        "print(\"Hello, World!\")"
      ],
      "execution_count": null,
      "outputs": []
    },
    {
      "cell_type": "code",
      "metadata": {
        "id": "Km5JQkqFwUFH"
      },
      "source": [
        "print(1)"
      ],
      "execution_count": null,
      "outputs": []
    },
    {
      "cell_type": "code",
      "metadata": {
        "id": "LzGvJtmewUXZ"
      },
      "source": [
        "print(True)"
      ],
      "execution_count": null,
      "outputs": []
    },
    {
      "cell_type": "markdown",
      "metadata": {
        "id": "kM3N0RJFaDr4"
      },
      "source": [
        "# type() ❓\n",
        "\n",
        "In Python, there are 3 basic data types you will always use, namely `int`, `str`, and `bool`.\n",
        "\n",
        "The built-in `type()` function (you'll learn about functions later on in the course!) outputs the data type of whatever you put inside the parentheses."
      ]
    },
    {
      "cell_type": "code",
      "metadata": {
        "id": "hz_rINIFY6Uh"
      },
      "source": [
        "print(type(\"Hello, World!\"))"
      ],
      "execution_count": null,
      "outputs": []
    },
    {
      "cell_type": "code",
      "metadata": {
        "id": "KLO3pnSgwYbP"
      },
      "source": [
        "print(type(1))"
      ],
      "execution_count": null,
      "outputs": []
    },
    {
      "cell_type": "code",
      "metadata": {
        "id": "2aRaIo7twYr5"
      },
      "source": [
        "print(type(True))"
      ],
      "execution_count": null,
      "outputs": []
    },
    {
      "cell_type": "markdown",
      "metadata": {
        "id": "RUxyZQofahDD"
      },
      "source": [
        "# Type Casting 🟠 ➡️ 🔵\n",
        "\n",
        "Type casting is the process of changing the type of an object. For example, `str(1)` converts `1` from an `int` into a `str`.\n",
        "\n",
        "Don't believe me? Try it out yourself!"
      ]
    },
    {
      "cell_type": "code",
      "metadata": {
        "id": "iaqWc8ZNbA02"
      },
      "source": [
        "before = 1\n",
        "after = str(1)"
      ],
      "execution_count": null,
      "outputs": []
    },
    {
      "cell_type": "code",
      "metadata": {
        "id": "hx1Lp4SywdPk"
      },
      "source": [
        "print(\"Before:\", type(before))"
      ],
      "execution_count": null,
      "outputs": []
    },
    {
      "cell_type": "code",
      "metadata": {
        "id": "5KyRVUBnwdgd"
      },
      "source": [
        "print(\"After:\", type(after))"
      ],
      "execution_count": null,
      "outputs": []
    },
    {
      "cell_type": "markdown",
      "metadata": {
        "id": "snUYscduccMh"
      },
      "source": [
        "# Variables 📦\n",
        "\n",
        "A variable is a name that is equal to a value.\n",
        "\n",
        "This is how you define a variable: `<name> = <value>`.\n",
        "\n",
        "Feel free to change the names and values in the cell below to learn more!"
      ]
    },
    {
      "cell_type": "code",
      "metadata": {
        "id": "Ln4npO-Kbd5r"
      },
      "source": [
        "var_one = 14 # Change me!\n",
        "print(\"The first variable is\", var_one, \"whose type is\", type(var_one))"
      ],
      "execution_count": null,
      "outputs": []
    },
    {
      "cell_type": "code",
      "metadata": {
        "id": "xvzQ1zr1wiC_"
      },
      "source": [
        "var_two = \"June\" # Change me!\n",
        "print(\"The second variable is\", var_two, \"whose type is\", type(var_two))"
      ],
      "execution_count": null,
      "outputs": []
    },
    {
      "cell_type": "code",
      "metadata": {
        "id": "Zth5dGDpwiWI"
      },
      "source": [
        "var_three = False # Change me!\n",
        "print(\"The third variable is\", var_three, \"whose type is\", type(var_three))"
      ],
      "execution_count": null,
      "outputs": []
    },
    {
      "cell_type": "markdown",
      "metadata": {
        "id": "knSUQwlrdNpm"
      },
      "source": [
        "# Expressions 😶\n",
        "\n",
        "An expression is a combination of operands and operators. With these, you can do math and write 'logical expressions' to solve many problems. For this notebook, we will only try out the math side of expressions, but we will explore the exciting world of logical expressions in future lessons!\n",
        "\n",
        "Here's how you write expressions: `<operand> <operator> <operand> <operator> <operand> ...`.\n",
        "\n",
        "For the cell below, you can change the values of `i` and `j` to see how the other variables change!"
      ]
    },
    {
      "cell_type": "code",
      "metadata": {
        "id": "dBs4UHHVd5Hl"
      },
      "source": [
        "i = 10 # Change me!\n",
        "j = 3 # Change me!\n",
        "\n",
        "my_sum = i + j\n",
        "my_diff = i - j\n",
        "my_product = i * j\n",
        "my_quotient = i / j\n",
        "my_remainder = i % j\n",
        "my_power = i ** j"
      ],
      "execution_count": null,
      "outputs": []
    },
    {
      "cell_type": "code",
      "metadata": {
        "id": "P-_DyP6Uw2pH"
      },
      "source": [
        "print(\"Addition:\", my_sum)"
      ],
      "execution_count": null,
      "outputs": []
    },
    {
      "cell_type": "code",
      "metadata": {
        "id": "9R8tkEdKwx94"
      },
      "source": [
        "print(\"Subtraction:\", my_diff)"
      ],
      "execution_count": null,
      "outputs": []
    },
    {
      "cell_type": "code",
      "metadata": {
        "id": "3_CDH-VcwyWf"
      },
      "source": [
        "print(\"Multiplication:\", my_product)"
      ],
      "execution_count": null,
      "outputs": []
    },
    {
      "cell_type": "code",
      "metadata": {
        "id": "J_ZPu-f8wyuB"
      },
      "source": [
        "print(\"Division:\", my_quotient)"
      ],
      "execution_count": null,
      "outputs": []
    },
    {
      "cell_type": "code",
      "metadata": {
        "id": "nsklwCENwy6y"
      },
      "source": [
        "print(\"Modulo:\", my_remainder)"
      ],
      "execution_count": null,
      "outputs": []
    },
    {
      "cell_type": "code",
      "metadata": {
        "id": "4jOeAQOQwzPJ"
      },
      "source": [
        "print(\"Exponentiation:\", my_power)"
      ],
      "execution_count": null,
      "outputs": []
    },
    {
      "cell_type": "markdown",
      "metadata": {
        "id": "ehUgELUQgQLa"
      },
      "source": [
        "# Let's Play with Circles 🟢\n",
        "\n",
        "Imagine you're a student learning about how to find the area of a circle (`area = πr²`). Your teacher gave you this question as homework.\n",
        "\n",
        "<br>\n",
        "<br>\n",
        "<br>\n",
        "\n",
        "_The circle below has a radius of 5cm. Given that π = 3.14159, find the area of the circle._\n",
        "\n",
        "<img src=\"https://upload.wikimedia.org/wikipedia/commons/a/a0/Circle_-_black_simple.svg\" alt=\"drawing\" width=\"200\"/>\n",
        "\n",
        "<br>\n",
        "<br>\n",
        "<br>\n",
        "\n",
        "You remember what you have learnt about abstracting expressions from a coding course (by Code for Hope 😉). To help you with your homework, you decide to code a short program that will help you calculate the area of the circle above! Who needs a calculator when you know how to code?"
      ]
    },
    {
      "cell_type": "code",
      "metadata": {
        "id": "VdR5r3mTjPyI"
      },
      "source": [
        "# Write your code in this cell\n",
        "\n",
        "\n",
        "\n",
        "print(radius)\n",
        "print(area)"
      ],
      "execution_count": null,
      "outputs": []
    },
    {
      "cell_type": "markdown",
      "metadata": {
        "id": "qR8CBvfrkzGW"
      },
      "source": [
        "Suddenly, your teacher texts the class, saying that she decided to change the question she gave before! This is the new question.\n",
        "<br>\n",
        "<br>\n",
        "<br>\n",
        "\n",
        "_The circle below has a radius of **10cm**. Given that π = 3.14159, find the area of the circle._\n",
        "\n",
        "<img src=\"https://upload.wikimedia.org/wikipedia/commons/a/a0/Circle_-_black_simple.svg\" alt=\"drawing\" width=\"400\"/>\n",
        "\n",
        "<br>\n",
        "<br>\n",
        "<br>\n",
        "\n",
        "Not to worry! You know how to change the values of variables. All you need to do is to add 5cm to the old radius value. Phew!"
      ]
    },
    {
      "cell_type": "code",
      "metadata": {
        "id": "N2C5AZXVlmlG"
      },
      "source": [
        "# Write your code in this cell\n",
        "\n",
        "\n",
        "\n",
        "print(radius)\n",
        "print(area)"
      ],
      "execution_count": null,
      "outputs": []
    },
    {
      "cell_type": "markdown",
      "metadata": {
        "id": "o9j6RE47mGBR"
      },
      "source": [
        "# Congratulations 🎉\n",
        "\n",
        "You've finished the notebook 📕 for Lesson 1! To get a good understanding, continue to experiment with the code above. For further (optional) practice, go to [Practice Notebook 1](https://colab.research.google.com/drive/1W5kqzrkEVOoeYtdkwShflX-spNnk9YIj?usp=sharing). After all, the only way to learn is by trying!\n",
        "\n",
        "**💻 with ❤️ by Code for Hope**"
      ]
    }
  ]
}