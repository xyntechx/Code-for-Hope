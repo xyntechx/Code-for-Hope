{
  "nbformat": 4,
  "nbformat_minor": 0,
  "metadata": {
    "colab": {
      "name": "Lesson 4",
      "provenance": [],
      "collapsed_sections": []
    },
    "kernelspec": {
      "name": "python3",
      "display_name": "Python 3"
    },
    "language_info": {
      "name": "python"
    }
  },
  "cells": [
    {
      "cell_type": "markdown",
      "metadata": {
        "id": "vcIjaoTSU2B2"
      },
      "source": [
        "# Welcome!\n",
        "\n",
        "Hello! Welcome to the notebook 📕 for Lesson 4!\n",
        "\n",
        "# Let's Get Started 🎉\n",
        "\n",
        "To run/activate a cell:\n",
        "- Click the **play icon ▶️** beside the cell, or\n",
        "- Press **cmd/shift + enter** (Mac) or **ctrl/shift + enter** (Windows) after selecting the cell"
      ]
    },
    {
      "cell_type": "markdown",
      "metadata": {
        "id": "ckarmx_eXi0Y"
      },
      "source": [
        "# Object Oriented Programming 📦\n",
        "\n",
        "OOP is a programming paradigm which hinges on the concept of classes and objects, allowing you to do so many things in programming. It is a difficult concept to understand in the beginning (believe me, I've been there), but with enough determination and hard work, you'll find OOP to be as easy as ABC!"
      ]
    },
    {
      "cell_type": "markdown",
      "metadata": {
        "id": "DqXlsGQZfsEt"
      },
      "source": [
        "# Classes 👥\n",
        "\n",
        "Classes, like functions, achieves Decomposition and Abstraction in your code. This means that with classes, your code becomes more organised. Making your own classes gives you the flexibility to customise your code in order to solve a specific problem, allowing you to do more powerful things with your code. Hence, it is important that you at least understand what they are!\n",
        "\n",
        "Let's define our custom class `Person`. We will make it have some of the attributes an actual person has!"
      ]
    },
    {
      "cell_type": "code",
      "metadata": {
        "id": "EiEE3RaiXMlg"
      },
      "source": [
        "class Person:\n",
        "\tdef __init__(self, name, age):\n",
        "\t\tself.name = name\n",
        "\t\tself.age = age\n",
        "    \n",
        "\tdef talk(self):\n",
        "\t\treturn \"I am \" + self.name "
      ],
      "execution_count": 16,
      "outputs": []
    },
    {
      "cell_type": "markdown",
      "metadata": {
        "id": "0aJAHmbphueI"
      },
      "source": [
        "Let's now make an **instance** of the `Person` class!"
      ]
    },
    {
      "cell_type": "code",
      "metadata": {
        "id": "U060m7OvL_e6"
      },
      "source": [
        "human = Person(\"Audrey\", 16)"
      ],
      "execution_count": 17,
      "outputs": []
    },
    {
      "cell_type": "markdown",
      "metadata": {
        "id": "WR63vxW4Kq1B"
      },
      "source": [
        "Let's use our class instance, shall we?"
      ]
    },
    {
      "cell_type": "code",
      "metadata": {
        "id": "6154q5k1Kpcb"
      },
      "source": [
        "# Get the name of human\n",
        "name = human.name\n",
        "print(name)"
      ],
      "execution_count": null,
      "outputs": []
    },
    {
      "cell_type": "code",
      "metadata": {
        "id": "5Ds_lp-EKpr9"
      },
      "source": [
        "# Get the age of human\n",
        "age = human.age\n",
        "print(age)"
      ],
      "execution_count": null,
      "outputs": []
    },
    {
      "cell_type": "code",
      "metadata": {
        "id": "ZRvZJVvVKqF6"
      },
      "source": [
        "# Call the talk() method\n",
        "print(human.talk())"
      ],
      "execution_count": null,
      "outputs": []
    },
    {
      "cell_type": "markdown",
      "metadata": {
        "id": "e6MMwv4uJ_jb"
      },
      "source": [
        "Oh no! We made a mistake... can we update our class instance? Of course!"
      ]
    },
    {
      "cell_type": "code",
      "metadata": {
        "id": "LEYvbHrwi_Z6"
      },
      "source": [
        "# Set the name of human\n",
        "human.name = \"Nyx\"\n",
        "\n",
        "# Set the age of human\n",
        "human.age = 17"
      ],
      "execution_count": 21,
      "outputs": []
    },
    {
      "cell_type": "markdown",
      "metadata": {
        "id": "emdiMKlULVs1"
      },
      "source": [
        "Now, we will check whether the changes have been made!"
      ]
    },
    {
      "cell_type": "code",
      "metadata": {
        "id": "re7_VjbGLQ_F"
      },
      "source": [
        "print(human.name)"
      ],
      "execution_count": null,
      "outputs": []
    },
    {
      "cell_type": "code",
      "metadata": {
        "id": "LCzjHSGsLRLK"
      },
      "source": [
        "print(human.age)"
      ],
      "execution_count": null,
      "outputs": []
    },
    {
      "cell_type": "markdown",
      "metadata": {
        "id": "M9HaoqpeLMni"
      },
      "source": [
        "## Bonus Exercise\n",
        "\n",
        "Make your own class! It can be a `Vehicle`, `Building`, `Animal`, anything at all! Get creative :D"
      ]
    },
    {
      "cell_type": "code",
      "metadata": {
        "id": "yRmIJ_gQLI9Q"
      },
      "source": [
        "# Write your code in this cell\n",
        "\n",
        "\n"
      ],
      "execution_count": 24,
      "outputs": []
    },
    {
      "cell_type": "markdown",
      "metadata": {
        "id": "Tou_iLwGYit2"
      },
      "source": [
        "# Inheritance 👩‍🎓\n",
        "\n",
        "With inheritance, your code becomes even more flexible as now, you don't have to keep redefining the same exact attributes for different classes. Inheritance allows you to reuse previously written code, again achieving Decomposition and Abstraction!"
      ]
    },
    {
      "cell_type": "code",
      "metadata": {
        "id": "qyhl5TunY256"
      },
      "source": [
        "class Student(Person):\n",
        "\tdef __init__(self, name, age, subjects):\n",
        "\t\tPerson.__init__(self, name, age)\n",
        "\t\tself.subjects = subjects\n",
        "    \n",
        "\tdef study(self):\n",
        "\t\ts = \", \".join(self.subjects)\n",
        "\t\treturn \"I am studying: \" + s"
      ],
      "execution_count": 25,
      "outputs": []
    },
    {
      "cell_type": "code",
      "metadata": {
        "id": "iQFBFacNc551"
      },
      "source": [
        "student = Student(\n",
        "    \"Nyx\",\n",
        "    17,\n",
        "    [\"Math\", \"Science\", \"English\", \"Mother Tongue\"]\n",
        ")"
      ],
      "execution_count": 26,
      "outputs": []
    },
    {
      "cell_type": "code",
      "metadata": {
        "id": "KWWorARclw6X"
      },
      "source": [
        "print(student.name)"
      ],
      "execution_count": null,
      "outputs": []
    },
    {
      "cell_type": "code",
      "metadata": {
        "id": "ItSQlXvllxK4"
      },
      "source": [
        "print(student.age)"
      ],
      "execution_count": null,
      "outputs": []
    },
    {
      "cell_type": "code",
      "metadata": {
        "id": "HeEVALL_lxjy"
      },
      "source": [
        "print(student.study())"
      ],
      "execution_count": null,
      "outputs": []
    },
    {
      "cell_type": "code",
      "metadata": {
        "id": "wNTUnZzBlxxr"
      },
      "source": [
        "print(student.talk())"
      ],
      "execution_count": null,
      "outputs": []
    },
    {
      "cell_type": "markdown",
      "metadata": {
        "id": "7TU9e-DCmIyF"
      },
      "source": [
        "## Bonus Exercise\n",
        "\n",
        "Create a subclass of the class you made earlier! Experiment with it, and try new things!"
      ]
    },
    {
      "cell_type": "code",
      "metadata": {
        "id": "by4817domIyF"
      },
      "source": [
        "# Write your code in this cell\n",
        "\n",
        "\n"
      ],
      "execution_count": null,
      "outputs": []
    },
    {
      "cell_type": "markdown",
      "metadata": {
        "id": "o9j6RE47mGBR"
      },
      "source": [
        "# Congratulations 🎉\n",
        "\n",
        "You've finished the notebook 📕 for Lesson 4! To get a good understanding, continue to experiment with the code above. For further (optional) practice, go to [Practice Notebook 4](https://colab.research.google.com/drive/1LKy7hGIus2GPP6N42cVK4tl204KgjYFz?usp=sharing). After all, the only way to learn is by trying!\n",
        "\n",
        "**💻 with ❤️ by Code for Hope**"
      ]
    }
  ]
}