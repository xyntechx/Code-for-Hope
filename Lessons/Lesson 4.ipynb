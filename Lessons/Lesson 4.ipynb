{
  "nbformat": 4,
  "nbformat_minor": 0,
  "metadata": {
    "colab": {
      "name": "Lesson 4",
      "provenance": [],
      "collapsed_sections": []
    },
    "kernelspec": {
      "name": "python3",
      "display_name": "Python 3"
    },
    "language_info": {
      "name": "python"
    }
  },
  "cells": [
    {
      "cell_type": "markdown",
      "metadata": {
        "id": "vcIjaoTSU2B2"
      },
      "source": [
        "# Welcome!\n",
        "\n",
        "Hello! Welcome to the notebook 📕 for Lesson 4!\n",
        "\n",
        "# Let's Get Started 🎉\n",
        "\n",
        "To run/activate a cell:\n",
        "- Click the **play icon ▶️** beside the cell, or\n",
        "- Press **cmd/shift + enter** (Mac) or **ctrl/shift + enter** (Windows) after selecting the cell"
      ]
    },
    {
      "cell_type": "markdown",
      "metadata": {
        "id": "ckarmx_eXi0Y"
      },
      "source": [
        "# Object Oriented Programming 📦\n",
        "\n",
        "OOP is a programming paradigm which hinges on the concept of classes and objects, allowing you to do so many things in programming. It is a difficult concept to understand in the beginning (believe me, I've been there), but with enough determination and hard work, you'll find OOP to be as easy as ABC!"
      ]
    },
    {
      "cell_type": "markdown",
      "metadata": {
        "id": "DqXlsGQZfsEt"
      },
      "source": [
        "# Classes 👥\n",
        "\n",
        "Classes, like functions, achieves Decomposition and Abstraction in your code. This means that with classes, your code becomes more organised. Making your own classes gives you the flexibility to customise your code in order to solve a specific problem, allowing you to do more powerful things with your code. Hence, it is important that you at least understand what they are!\n",
        "\n",
        "Let's define our custom class `Person`. We will make it have some of the attributes an actual person has!"
      ]
    },
    {
      "cell_type": "code",
      "metadata": {
        "id": "EiEE3RaiXMlg"
      },
      "source": [
        "# not recommended; no getters nor setters\n",
        "\n",
        "class Person:\n",
        "\tdef __init__(self, name, age):\n",
        "\t\tself.name = name\n",
        "\t\tself.age = age\n",
        "    \n",
        "\tdef talk(self):\n",
        "\t\treturn \"I am \" + self.name "
      ],
      "execution_count": null,
      "outputs": []
    },
    {
      "cell_type": "markdown",
      "metadata": {
        "id": "0aJAHmbphueI"
      },
      "source": [
        "Class `Person` above doesn't have getters nor setters. This isn't good, because users end up accessing the attributes directly, which can cause errors in the program if we change the class definition."
      ]
    },
    {
      "cell_type": "code",
      "metadata": {
        "id": "U060m7OvL_e6"
      },
      "source": [
        "human = Person(\"Nyx\", 16)\n",
        "\n",
        "print(human.name)\n",
        "print(human.age)\n",
        "print(human.talk())"
      ],
      "execution_count": null,
      "outputs": []
    },
    {
      "cell_type": "code",
      "metadata": {
        "id": "LEYvbHrwi_Z6"
      },
      "source": [
        "human.name = \"Audrey\"\n",
        "human.age = 17\n",
        "\n",
        "print(human.name)\n",
        "print(human.age)"
      ],
      "execution_count": null,
      "outputs": []
    },
    {
      "cell_type": "markdown",
      "metadata": {
        "id": "WWAvAhLcjw1j"
      },
      "source": [
        "Let's improve our class now!"
      ]
    },
    {
      "cell_type": "code",
      "metadata": {
        "id": "K3UquJelLdDr"
      },
      "source": [
        "# recommended; with getters nor setters\n",
        "\n",
        "class Person:\n",
        "\tdef __init__(self, name, age):\n",
        "\t\tself.name = name\n",
        "\t\tself.age = age\n",
        "\n",
        "\tdef get_name(self):\n",
        "\t\treturn self.name\n",
        "\n",
        "\tdef set_name(self, new_name):\n",
        "\t\tself.name = new_name\n",
        "\n",
        "\tdef get_age(self):\n",
        "\t\treturn self.age\n",
        "\n",
        "\tdef set_age(self, new_age):\n",
        "\t\tself.age = new_age\n",
        "\n",
        "\tdef talk(self):\n",
        "\t\treturn \"I am \" + self.name"
      ],
      "execution_count": null,
      "outputs": []
    },
    {
      "cell_type": "markdown",
      "metadata": {
        "id": "JGlZK3GbLdve"
      },
      "source": [
        "Class `Person` now has getters and setters. This is good, because users now access attributes outside of the class definition safely."
      ]
    },
    {
      "cell_type": "code",
      "metadata": {
        "id": "_BlFBd4CNq87"
      },
      "source": [
        "human = Person(\"Nyx\", 16)\n",
        "\n",
        "print(human.get_name())\n",
        "print(human.get_age())\n",
        "print(human.talk())"
      ],
      "execution_count": null,
      "outputs": []
    },
    {
      "cell_type": "code",
      "metadata": {
        "id": "YWU1ehHYPnHD"
      },
      "source": [
        "human.set_name(\"Audrey\")\n",
        "human.set_age(17)\n",
        "\n",
        "print(human.get_name())\n",
        "print(human.get_age())"
      ],
      "execution_count": null,
      "outputs": []
    },
    {
      "cell_type": "markdown",
      "metadata": {
        "id": "M9HaoqpeLMni"
      },
      "source": [
        "## Bonus Exercise\n",
        "\n",
        "Make your own class! It can be a `Vehicle`, `Building`, `Animal`, anything at all! Get creative :D"
      ]
    },
    {
      "cell_type": "code",
      "metadata": {
        "id": "yRmIJ_gQLI9Q"
      },
      "source": [
        "# Write your code in this cell\n",
        "\n",
        "\n"
      ],
      "execution_count": null,
      "outputs": []
    },
    {
      "cell_type": "markdown",
      "metadata": {
        "id": "Tou_iLwGYit2"
      },
      "source": [
        "# Inheritance 👩‍🎓\n",
        "\n",
        "With inheritance, your code becomes even more flexible as now, you don't have to keep redefining the same exact attributes for different classes. Inheritance allows you to reuse previously written code, again achieving Decomposition and Abstraction!"
      ]
    },
    {
      "cell_type": "code",
      "metadata": {
        "id": "qyhl5TunY256"
      },
      "source": [
        "class Student(Person):\n",
        "\tdef __init__(self, name, age, subjects):\n",
        "\t\tPerson.__init__(self, name, age)\n",
        "\t\tself.subjects = subjects\n",
        "    \n",
        "\tdef study(self):\n",
        "\t\ts = \",\".join(self.subjects)\n",
        "\t\treturn \"I am studying: \" + s"
      ],
      "execution_count": null,
      "outputs": []
    },
    {
      "cell_type": "code",
      "metadata": {
        "id": "iQFBFacNc551"
      },
      "source": [
        "student = Student(\"Nyx\", 16, [\"Math\", \"Science\", \"English\", \"Mother Tongue\"])"
      ],
      "execution_count": null,
      "outputs": []
    },
    {
      "cell_type": "code",
      "metadata": {
        "id": "KWWorARclw6X"
      },
      "source": [
        "print(student.get_name())"
      ],
      "execution_count": null,
      "outputs": []
    },
    {
      "cell_type": "code",
      "metadata": {
        "id": "ItSQlXvllxK4"
      },
      "source": [
        "print(student.get_age())"
      ],
      "execution_count": null,
      "outputs": []
    },
    {
      "cell_type": "code",
      "metadata": {
        "id": "HeEVALL_lxjy"
      },
      "source": [
        "print(student.study())"
      ],
      "execution_count": null,
      "outputs": []
    },
    {
      "cell_type": "code",
      "metadata": {
        "id": "wNTUnZzBlxxr"
      },
      "source": [
        "print(student.talk())"
      ],
      "execution_count": null,
      "outputs": []
    },
    {
      "cell_type": "markdown",
      "metadata": {
        "id": "7TU9e-DCmIyF"
      },
      "source": [
        "## Bonus Exercise\n",
        "\n",
        "Create a subclass of the class you made earlier! Experiment with it, and try new things!"
      ]
    },
    {
      "cell_type": "code",
      "metadata": {
        "id": "by4817domIyF"
      },
      "source": [
        "# Write your code in this cell\n",
        "\n",
        "\n"
      ],
      "execution_count": null,
      "outputs": []
    },
    {
      "cell_type": "markdown",
      "metadata": {
        "id": "o9j6RE47mGBR"
      },
      "source": [
        "# Congratulations 🎉\n",
        "\n",
        "You've finished the notebook 📕 for Lesson 4! To get a good understanding, continue to experiment with the code above. For further (optional) practice, go to [Practice Notebook 4](https://colab.research.google.com/drive/1LKy7hGIus2GPP6N42cVK4tl204KgjYFz?usp=sharing). After all, the only way to learn is by trying!\n",
        "\n",
        "**💻 with ❤️ by Code for Hope**"
      ]
    }
  ]
}