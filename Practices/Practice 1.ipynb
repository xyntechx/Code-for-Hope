{
  "nbformat": 4,
  "nbformat_minor": 0,
  "metadata": {
    "colab": {
      "name": "Practice 1",
      "provenance": [],
      "collapsed_sections": []
    },
    "kernelspec": {
      "name": "python3",
      "display_name": "Python 3"
    },
    "language_info": {
      "name": "python"
    }
  },
  "cells": [
    {
      "cell_type": "markdown",
      "metadata": {
        "id": "vcIjaoTSU2B2"
      },
      "source": [
        "# Welcome!\n",
        "\n",
        "Hello! Welcome to the notebook 📕 for Practice 1!\n",
        "\n",
        "This notebook covers the basics of Python programming discussed in Lesson 1.\n",
        "\n",
        "# Let's Get Started 🎉\n",
        "\n",
        "To run/activate a cell:\n",
        "- Click the **play icon ▶️** beside the cell, or\n",
        "- Press **cmd/shift + enter** (Mac) or **ctrl/shift + enter** (Windows) after selecting the cell"
      ]
    },
    {
      "cell_type": "markdown",
      "metadata": {
        "id": "ckarmx_eXi0Y"
      },
      "source": [
        "# Task 1\n",
        "\n",
        "Print out your name, age, hobby, and two other things using the print() statement!"
      ]
    },
    {
      "cell_type": "code",
      "metadata": {
        "id": "EiEE3RaiXMlg"
      },
      "source": [
        "# Write your code in this cell\n",
        "\n",
        "\n"
      ],
      "execution_count": null,
      "outputs": []
    },
    {
      "cell_type": "markdown",
      "metadata": {
        "id": "Ma9xXtgVpSG8"
      },
      "source": [
        "# Task 2\n",
        "\n",
        "Print out the type of each of the following variables using print() and type()!"
      ]
    },
    {
      "cell_type": "code",
      "metadata": {
        "id": "AZXitsRLpW9A"
      },
      "source": [
        "a = 6\n",
        "# Write your code in this cell\n",
        "\n",
        "\n"
      ],
      "execution_count": null,
      "outputs": []
    },
    {
      "cell_type": "code",
      "metadata": {
        "id": "fRhBl4azpb59"
      },
      "source": [
        "b = \"Hello, World!\"\n",
        "# Write your code in this cell\n",
        "\n",
        "\n"
      ],
      "execution_count": null,
      "outputs": []
    },
    {
      "cell_type": "code",
      "metadata": {
        "id": "_lYNtxKbpcJf"
      },
      "source": [
        "c = False\n",
        "# Write your code in this cell\n",
        "\n",
        "\n"
      ],
      "execution_count": null,
      "outputs": []
    },
    {
      "cell_type": "code",
      "metadata": {
        "id": "7zdoJ5nFpcjd"
      },
      "source": [
        "d = 5.7\n",
        "# Write your code in this cell\n",
        "\n",
        "\n"
      ],
      "execution_count": null,
      "outputs": []
    },
    {
      "cell_type": "code",
      "metadata": {
        "id": "iKzsARuKpc22"
      },
      "source": [
        "e = \"n\"\n",
        "# Write your code in this cell\n",
        "\n",
        "\n"
      ],
      "execution_count": null,
      "outputs": []
    },
    {
      "cell_type": "markdown",
      "metadata": {
        "id": "19QlhAK4pmJP"
      },
      "source": [
        "# Task 3\n",
        "\n",
        "Assign values to and print out the following variables:\n",
        "- `my_sum`\n",
        "- `my_diff`\n",
        "- `my_product`\n",
        "- `my_quotient`\n",
        "- `my_remainder`\n",
        "- `my_power`"
      ]
    },
    {
      "cell_type": "code",
      "metadata": {
        "id": "6tv9NidXp0UG"
      },
      "source": [
        "i = 25\n",
        "j = 4"
      ],
      "execution_count": null,
      "outputs": []
    },
    {
      "cell_type": "code",
      "metadata": {
        "id": "y_sGGblupmJg"
      },
      "source": [
        "# sum of i and j\n",
        "# Write your code in this cell\n",
        "my_sum =\n",
        "\n",
        "\n"
      ],
      "execution_count": null,
      "outputs": []
    },
    {
      "cell_type": "code",
      "metadata": {
        "id": "lh1B5B-cp8Zf"
      },
      "source": [
        "# difference between i and j\n",
        "# Write your code in this cell\n",
        "my_diff =\n",
        "\n",
        "\n"
      ],
      "execution_count": null,
      "outputs": []
    },
    {
      "cell_type": "code",
      "metadata": {
        "id": "3gqhwQQ4p8pg"
      },
      "source": [
        "# product of i and j\n",
        "# Write your code in this cell\n",
        "my_product =\n",
        "\n",
        "\n"
      ],
      "execution_count": null,
      "outputs": []
    },
    {
      "cell_type": "code",
      "metadata": {
        "id": "4MW_SnyJp84z"
      },
      "source": [
        "# quotient of i and j\n",
        "# Write your code in this cell\n",
        "my_quotient =\n",
        "\n",
        "\n"
      ],
      "execution_count": null,
      "outputs": []
    },
    {
      "cell_type": "code",
      "metadata": {
        "id": "0jmpRsTEp9Fm"
      },
      "source": [
        "# remainder of i divided by j\n",
        "# Write your code in this cell\n",
        "my_remainder =\n",
        "\n",
        "\n"
      ],
      "execution_count": null,
      "outputs": []
    },
    {
      "cell_type": "code",
      "metadata": {
        "id": "_-3agHxvp9SQ"
      },
      "source": [
        "# i to the power of j\n",
        "# Write your code in this cell\n",
        "my_power =\n",
        "\n",
        "\n"
      ],
      "execution_count": null,
      "outputs": []
    },
    {
      "cell_type": "markdown",
      "metadata": {
        "id": "qbixBcxIqrFy"
      },
      "source": [
        "# Task 4\n",
        "\n",
        "Create a 3D shape and print out its volume!\n",
        "\n",
        "For example:\n",
        "```python\n",
        "pi = 3.14159\n",
        "radius = 10\n",
        "height = 15\n",
        "volume = pi * (radius**2) * height\n",
        "print(volume)\n",
        "```\n",
        "\n",
        "OR\n",
        "\n",
        "```python\n",
        "length = 3\n",
        "width = 9\n",
        "height = 5\n",
        "volume = length * width * height\n",
        "print(volume)\n",
        "```"
      ]
    },
    {
      "cell_type": "code",
      "metadata": {
        "id": "6sUZjfTVqrFz"
      },
      "source": [
        "# Write your code in this cell\n",
        "\n",
        "\n"
      ],
      "execution_count": null,
      "outputs": []
    },
    {
      "cell_type": "markdown",
      "metadata": {
        "id": "o9j6RE47mGBR"
      },
      "source": [
        "# Congratulations 🎉\n",
        "\n",
        "You've finished the notebook 📕 for Practice 1! Hopefully, you've improved your coding skills and learnt something new!\n",
        "\n",
        "**💻 with ❤️ by Code for Hope**"
      ]
    }
  ]
}