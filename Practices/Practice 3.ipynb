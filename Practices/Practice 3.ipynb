{
  "nbformat": 4,
  "nbformat_minor": 0,
  "metadata": {
    "colab": {
      "name": "Practice 3",
      "provenance": [],
      "collapsed_sections": []
    },
    "kernelspec": {
      "name": "python3",
      "display_name": "Python 3"
    },
    "language_info": {
      "name": "python"
    }
  },
  "cells": [
    {
      "cell_type": "markdown",
      "metadata": {
        "id": "vcIjaoTSU2B2"
      },
      "source": [
        "# Welcome!\n",
        "\n",
        "Hello! Welcome to the notebook 📕 for Practice 3!\n",
        "\n",
        "This notebook covers the concepts discussed in Lesson 3. It is in a different style than the previous practice notebooks as it more closely resembles actual coding challenges!\n",
        "\n",
        "For this notebook, we have included checkers for every task to check whether the code you write is correct. Just run the cells containing the checkers and the console will tell you the results! Even though the checkers reveal the correct answers, they do not tell you how those answers are arrived at, so there's no point in cheating because in the end, you wouldn't know what the correct program is!\n",
        "\n",
        "# Let's Get Started 🎉\n",
        "\n",
        "To run/activate a cell:\n",
        "- Click the **play icon ▶️** beside the cell, or\n",
        "- Press **cmd/shift + enter** (Mac) or **ctrl/shift + enter** (Windows) after selecting the cell"
      ]
    },
    {
      "cell_type": "markdown",
      "metadata": {
        "id": "ckarmx_eXi0Y"
      },
      "source": [
        "# Task 1\n",
        "\n",
        "a password is considered strong if it:\n",
        "- has a length of at least 6,\n",
        "- contains at least one number,\n",
        "- contains at least one lowercase letter,\n",
        "- contains at least one uppercase letter, and\n",
        "- contains at least one special character.\n",
        "\n",
        "For example, when `password = \"Yg9\"`, the function returns `3` because by adding 3 characters (e.g. `l#p`), the new password (e.g. `Yg9l#p`) is strong.\n",
        "\n",
        "Your job is to return the **minimum number of characters** needed to be added to the password to make the password strong!\n",
        "\n",
        "P.S. Here are some helper strings to make your life easier 😆\n",
        "```python\n",
        "numbers = \"0123456789\"\n",
        "lowercase = \"abcdefghijklmnopqrstuvwxyz\"\n",
        "uppercase = \"ABCDEFGHIJKLMNOPQRSTUVWXYZ\"\n",
        "special = \"!@#$%^&*()-+\"\n",
        "```"
      ]
    },
    {
      "cell_type": "code",
      "metadata": {
        "id": "HQT69XMqrla2",
        "colab": {
          "base_uri": "https://localhost:8080/",
          "height": 129
        },
        "outputId": "6276ebee-b0fb-4d1c-ec1b-c3354c1bf66b"
      },
      "source": [
        "def strengthen_password(password):\n",
        "  # Write your code in this cell\n",
        "\n",
        "\n",
        "  "
      ],
      "execution_count": null,
      "outputs": [
        {
          "output_type": "error",
          "ename": "SyntaxError",
          "evalue": "ignored",
          "traceback": [
            "\u001b[0;36m  File \u001b[0;32m\"<ipython-input-1-5b8e0c463167>\"\u001b[0;36m, line \u001b[0;32m5\u001b[0m\n\u001b[0;31m    \u001b[0m\n\u001b[0m    ^\u001b[0m\n\u001b[0;31mSyntaxError\u001b[0m\u001b[0;31m:\u001b[0m unexpected EOF while parsing\n"
          ]
        }
      ]
    },
    {
      "cell_type": "markdown",
      "metadata": {
        "id": "GQfLHc4s3UVc"
      },
      "source": [
        "## Checkers\n",
        "\n",
        "Run the cell below to receive your results!"
      ]
    },
    {
      "cell_type": "code",
      "metadata": {
        "id": "EiEE3RaiXMlg"
      },
      "source": [
        "assert strengthen_password(\"Yg9\") == 3, \"Wrong Answer\"\n",
        "assert strengthen_password(\"A89l\") == 2, \"Wrong Answer\"\n",
        "assert strengthen_password(\"Hharb3617\") == 1, \"Wrong Answer\"\n",
        "assert strengthen_password(\"12345678\") == 3, \"Wrong Answer\"\n",
        "assert strengthen_password(\"Bs0128\") == 1, \"Wrong Answer\"\n",
        "assert strengthen_password(\"Sa3$li\") == 0, \"Wrong Answer\"\n",
        "assert strengthen_password(\"I*uH8b5\") == 0, \"Wrong Answer\"\n",
        "assert strengthen_password(\"&qwert3\") == 1, \"Wrong Answer\"\n",
        "assert strengthen_password(\"p@01xE\") == 0, \"Wrong Answer\"\n",
        "assert strengthen_password(\"\") == 6, \"Wrong Answer\"\n",
        "print(\"All Correct!\")"
      ],
      "execution_count": null,
      "outputs": []
    },
    {
      "cell_type": "markdown",
      "metadata": {
        "id": "Ma9xXtgVpSG8"
      },
      "source": [
        "# Task 2\n",
        "\n",
        "A string is considered cool if the sum of the values of its characters is prime. The value of a character is the position of that character in the alphabet (e.g. \"a\" has a value of 1, \"z\" has a value of 26).\n",
        "\n",
        "Some examples are as follows:\n",
        "- when `s = \"andj\"`, the function returns `\"Cool\"` as the sum of the values of its characters is `1 + 14 + 4 + 10 = 29` which is prime\n",
        "- when `s = \"bwahifdb\"`, the function returns `\"Not Cool\"` as the sum of the values of its characters is `2 + 23 + 1 + 8 + 9 + 6 + 4 + 2 = 55` which is not prime\n",
        "\n",
        "Your job is to return `\"Cool\"` if the string is cool, or return `\"Not Cool\"` otherwise!\n",
        "\n",
        "Note: `s` only contains lowercase letters and is non-empty.\n"
      ]
    },
    {
      "cell_type": "code",
      "metadata": {
        "id": "AZXitsRLpW9A"
      },
      "source": [
        "def cool_string(s):\n",
        "  # Write your code in this cell\n",
        "\n",
        "\n",
        "  "
      ],
      "execution_count": null,
      "outputs": []
    },
    {
      "cell_type": "markdown",
      "metadata": {
        "id": "7SdbkYxj5hLE"
      },
      "source": [
        "## Checkers\n",
        "\n",
        "Run the cell below to receive your results!"
      ]
    },
    {
      "cell_type": "code",
      "metadata": {
        "id": "DyXayvmm5hLI"
      },
      "source": [
        "assert cool_string(\"andj\") == \"Cool\", \"Wrong Answer\"\n",
        "assert cool_string(\"bwahifdb\") == \"Not Cool\", \"Wrong Answer\"\n",
        "assert cool_string(\"hello\") == \"Not Cool\", \"Wrong Answer\"\n",
        "assert cool_string(\"chb\") == \"Cool\", \"Wrong Answer\"\n",
        "assert cool_string(\"qwerty\") == \"Not Cool\", \"Wrong Answer\"\n",
        "assert cool_string(\"zapd\") == \"Cool\", \"Wrong Answer\"\n",
        "assert cool_string(\"byret\") == \"Not Cool\", \"Wrong Answer\"\n",
        "assert cool_string(\"qazwsxedcrfvtgbyhnujmikolp\") == \"Not Cool\", \"Wrong Answer\"\n",
        "assert cool_string(\"xmikjze\") == \"Not Cool\", \"Wrong Answer\"\n",
        "assert cool_string(\"lolff\") == \"Not Cool\", \"Wrong Answer\"\n",
        "print(\"All Correct!\")"
      ],
      "execution_count": null,
      "outputs": []
    },
    {
      "cell_type": "markdown",
      "metadata": {
        "id": "19QlhAK4pmJP"
      },
      "source": [
        "# Task 3\n",
        "\n",
        "Given the total number of islands, find the island on which you will land after hopping `hop_count` times `hop_power` island(s) at a time.\n",
        "\n",
        "Some examples are as follows:\n",
        "- when `island_count = 5`, `hop_count = 9`, and `hop_power = 1`, the function returns `4` as you start at island `0`, hop to island `1`, `2`, `3`, `4`, `0`, `1`, `2`, `3`, and finally `4`\n",
        "- when `island_count = 3`, `hop_count = 7`, and `hop_power = 2`, the function returns `2` as you start at island `0`, hop to island `2`, `1`, `0`, `2`, `1`, `0`, and finally `2`\n",
        "\n",
        "Your job is to return the island number on which you land (the first island is numbered `0` and the last island is numbered `island_count - 1`)!\n",
        "\n",
        "Note:\n",
        "- `island_count` is an integer that is more than `1`\n",
        "- `hop_count` is an integer that is non-zero\n",
        "- `hop_power` is an integer that is non-zero"
      ]
    },
    {
      "cell_type": "code",
      "metadata": {
        "id": "y_sGGblupmJg"
      },
      "source": [
        "def island_hopping(island_count, hop_count, hop_power):\n",
        "  # Write your code in this cell\n",
        "\n",
        "\n",
        "  "
      ],
      "execution_count": null,
      "outputs": []
    },
    {
      "cell_type": "markdown",
      "metadata": {
        "id": "OzoQu0b067JH"
      },
      "source": [
        "## Checkers\n",
        "\n",
        "Run the cell below to receive your results!"
      ]
    },
    {
      "cell_type": "code",
      "metadata": {
        "id": "hF2A2UHe67JL"
      },
      "source": [
        "assert island_hopping(5, 9, 1) == 4, \"Wrong Answer\"\n",
        "assert island_hopping(3, 7, 2) == 2, \"Wrong Answer\"\n",
        "assert island_hopping(7, 1, 5) == 5, \"Wrong Answer\"\n",
        "assert island_hopping(65, 65, 1) == 0, \"Wrong Answer\"\n",
        "assert island_hopping(4, 87, 2) == 2, \"Wrong Answer\"\n",
        "assert island_hopping(99, 100000000, 6) == 6, \"Wrong Answer\"\n",
        "assert island_hopping(100, 15200, 70) == 0, \"Wrong Answer\"\n",
        "assert island_hopping(2000, 100, 100) == 0, \"Wrong Answer\"\n",
        "assert island_hopping(888, 50, 5) == 250, \"Wrong Answer\"\n",
        "assert island_hopping(123456789, 10, 30) == 300, \"Wrong Answer\"\n",
        "print(\"All Correct!\")"
      ],
      "execution_count": null,
      "outputs": []
    },
    {
      "cell_type": "markdown",
      "metadata": {
        "id": "qbixBcxIqrFy"
      },
      "source": [
        "# Task 4\n",
        "\n",
        "Given a list of integers, determine the absolute differences between its adjacent elements.\n",
        "\n",
        "For example, when `my_list = [9, 3, 2, 6, 10, 5, 5]`, the absolute differences between its adjacent elements are `6`, `1`, `4`, `4`, `5`, and `0` and thus the function returns `6` (the largest difference).\n",
        "\n",
        "Your job is to return the largest difference between any two adjacent elements!\n",
        "\n",
        "Note: `my_list` contains integers and has a length of more than 1.\n"
      ]
    },
    {
      "cell_type": "code",
      "metadata": {
        "id": "6sUZjfTVqrFz"
      },
      "source": [
        "def diff_in_elem(my_list):\n",
        "  # Write your code in this cell\n",
        "\n",
        "\n",
        "  "
      ],
      "execution_count": null,
      "outputs": []
    },
    {
      "cell_type": "markdown",
      "metadata": {
        "id": "Qxk-tZi07-f5"
      },
      "source": [
        "## Checkers\n",
        "\n",
        "Run the cell below to receive your results!"
      ]
    },
    {
      "cell_type": "code",
      "metadata": {
        "id": "KuQmNK5O7-gK"
      },
      "source": [
        "assert diff_in_elem([9, 3, 2, 6, 10, 5, 5]) == 6, \"Wrong Answer\"\n",
        "assert diff_in_elem([8, 4, 8, 4, 3]) == 4, \"Wrong Answer\"\n",
        "assert diff_in_elem([1, 2, 3, 4, 5, 6, 7, 8, 9]) == 1, \"Wrong Answer\"\n",
        "assert diff_in_elem([1028349283, 2385613804]) == 1357264521, \"Wrong Answer\"\n",
        "assert diff_in_elem([1267451, 645943, 120938123782]) == 120937477839, \"Wrong Answer\"\n",
        "assert diff_in_elem([93475, 73098, 31287, 11129]) == 41811, \"Wrong Answer\"\n",
        "assert diff_in_elem([192837, 234867, 312903, 348923, 409128, 567231, 599898, 671927, 789123, 843201, 999228, 999910]) == 158103, \"Wrong Answer\"\n",
        "assert diff_in_elem([283529156, 123428934, 983429784, 13847294, 9432043291, 562173517, 832497242, 1734628, 3418423094208723, 3984532913746219, 89329942418431, 124632502783841, 13467324018, 83241870347, 3214321847, 12192130174, 2032237812]) == 3895202971327788, \"Wrong Answer\"\n",
        "assert diff_in_elem([32984719374, 102813819, 241279123, 7341873482, 731416834691, 91134104731, 31471332984, 93101238129, 8213812317, 561398139, 12397843856, 2310974221, 83162371, 901239174, 374591983, 1923801237, 98726345, 19210382471]) == 724074961209, \"Wrong Answer\"\n",
        "assert diff_in_elem([91231843, 91231843, 91231843, 91231843, 91231843, 91231843, 91231843, 91231843, 91231843, 91231843, 91231843, 91231843]) == 0, \"Wrong Answer\"\n",
        "print(\"All Correct!\")"
      ],
      "execution_count": null,
      "outputs": []
    },
    {
      "cell_type": "markdown",
      "metadata": {
        "id": "X_rhd5zi0tq1"
      },
      "source": [
        "# Task 5\n",
        "\n",
        "Given a list of strings, determine the number of occurrences of each unique string in the list.\n",
        "\n",
        "For example, when `colours = [\"Orange\", \"Red\", \"Blue\", \"Orange\", \"Orange\", \"Green\", \"Blue\", \"Orange\"]`, the function returns `{\"Orange\": 4, \"Red\": 1, \"Blue\": 2, \"Green\": 1}`.\n",
        "\n",
        "Your job is to return a dictionary whose keys are the unique strings of the list and values are the number of occurrences of the respective string!\n",
        "\n",
        "Note: `colours` is a non-empty list of strings.\n",
        "\n"
      ]
    },
    {
      "cell_type": "code",
      "metadata": {
        "id": "PLtlh5_E0tq5"
      },
      "source": [
        "def colour_count(colours):\n",
        "  # Write your code in this cell\n",
        "\n",
        "\n",
        "  "
      ],
      "execution_count": null,
      "outputs": []
    },
    {
      "cell_type": "markdown",
      "metadata": {
        "id": "ZjWEbQ1C8LDz"
      },
      "source": [
        "## Checkers\n",
        "\n",
        "Run the cell below to receive your results!"
      ]
    },
    {
      "cell_type": "code",
      "metadata": {
        "id": "bsZl6Zha8LDz"
      },
      "source": [
        "assert colour_count(['Orange', 'Red', 'Blue', 'Orange', 'Orange', 'Green', 'Blue', 'Orange']) == {'Orange': 4, 'Red': 1, 'Blue': 2, 'Green': 1}, \"Wrong Answer\"\n",
        "assert colour_count(['Violet']) == {'Violet': 1}, \"Wrong Answer\"\n",
        "assert colour_count(['Indigo', 'Indigo', 'Indigo', 'Blue', 'Indigo', 'Green', 'Indigo', 'Green', 'Indigo', 'Blue', 'Yellow', 'Violet', 'Violet', 'Blue', 'Red', 'Blue', 'Indigo', 'Violet', 'Indigo', 'Green', 'Red', 'Yellow', 'Orange', 'Blue', 'Violet', 'Violet', 'Orange', 'Yellow', 'Green', 'Green', 'Blue', 'Blue', 'Green', 'Green', 'Indigo', 'Blue', 'Yellow', 'Red', 'Violet', 'Orange', 'Red', 'Violet', 'Blue', 'Yellow', 'Yellow', 'Green', 'Green', 'Red', 'Red', 'Violet']) == {'Indigo': 9, 'Blue': 9, 'Green': 9, 'Yellow': 6, 'Violet': 8, 'Red': 6, 'Orange': 3}, \"Wrong Answer\"\n",
        "assert colour_count(['Yellow', 'Yellow', 'Blue', 'Orange', 'Green', 'Blue', 'Red', 'Red', 'Blue', 'Orange', 'Blue', 'Green', 'Green', 'Violet', 'Green', 'Indigo', 'Yellow', 'Violet', 'Red', 'Yellow', 'Orange', 'Indigo', 'Indigo', 'Violet', 'Red', 'Blue', 'Yellow', 'Indigo', 'Violet', 'Orange', 'Indigo', 'Indigo', 'Yellow', 'Yellow', 'Green', 'Orange', 'Indigo', 'Indigo', 'Green', 'Yellow', 'Green', 'Indigo', 'Blue', 'Indigo', 'Red', 'Red', 'Green', 'Blue', 'Indigo', 'Blue']) == {'Yellow': 8, 'Blue': 8, 'Orange': 5, 'Green': 8, 'Red': 6, 'Violet': 4, 'Indigo': 11}, \"Wrong Answer\"\n",
        "assert colour_count(['Orange', 'Orange', 'Orange', 'Indigo', 'Violet', 'Blue', 'Indigo', 'Yellow', 'Green', 'Violet', 'Blue', 'Violet', 'Blue', 'Violet', 'Orange', 'Blue', 'Orange', 'Red', 'Green', 'Violet', 'Blue', 'Indigo', 'Orange', 'Green', 'Green', 'Green', 'Red', 'Orange', 'Green', 'Green', 'Green', 'Violet', 'Yellow', 'Yellow', 'Green', 'Yellow', 'Yellow', 'Green', 'Indigo', 'Yellow', 'Indigo', 'Violet', 'Indigo', 'Red', 'Red', 'Blue', 'Green', 'Red', 'Indigo', 'Violet', 'Yellow', 'Yellow', 'Red', 'Yellow', 'Orange', 'Yellow', 'Violet', 'Orange', 'Violet', 'Violet', 'Indigo', 'Red', 'Green', 'Green', 'Blue', 'Orange', 'Violet', 'Indigo', 'Orange', 'Violet', 'Green', 'Indigo', 'Violet', 'Indigo', 'Orange', 'Green', 'Indigo', 'Yellow', 'Orange', 'Violet', 'Indigo', 'Yellow', 'Blue', 'Yellow', 'Orange', 'Red', 'Violet', 'Green', 'Green', 'Indigo', 'Orange', 'Indigo', 'Indigo', 'Green', 'Yellow', 'Orange', 'Orange', 'Indigo', 'Indigo', 'Orange']) == {'Orange': 18, 'Indigo': 18, 'Violet': 16, 'Blue': 8, 'Yellow': 14, 'Green': 18, 'Red': 8}, \"Wrong Answer\"\n",
        "assert colour_count(['Red', 'Orange', 'Blue', 'Red', 'Green', 'Indigo', 'Indigo', 'Blue', 'Indigo', 'Blue', 'Violet', 'Blue', 'Violet', 'Blue', 'Blue', 'Yellow', 'Blue', 'Red', 'Red', 'Indigo', 'Orange', 'Blue', 'Yellow', 'Red', 'Blue', 'Violet', 'Blue', 'Yellow', 'Yellow', 'Yellow', 'Green', 'Blue', 'Red', 'Orange', 'Indigo', 'Yellow', 'Orange', 'Indigo', 'Violet', 'Blue', 'Yellow', 'Red', 'Red', 'Indigo', 'Indigo', 'Blue', 'Blue', 'Indigo', 'Green', 'Orange', 'Blue', 'Violet', 'Blue', 'Violet', 'Orange', 'Violet', 'Orange', 'Red', 'Yellow', 'Green', 'Yellow', 'Red', 'Red', 'Orange', 'Indigo', 'Violet', 'Blue', 'Orange', 'Red', 'Blue', 'Violet', 'Indigo', 'Indigo', 'Blue', 'Green', 'Green', 'Yellow', 'Blue', 'Yellow', 'Blue', 'Violet', 'Violet', 'Green', 'Red', 'Green', 'Green', 'Violet', 'Blue', 'Green', 'Yellow', 'Blue', 'Orange', 'Yellow', 'Orange', 'Orange', 'Green', 'Orange', 'Yellow', 'Blue', 'Red']) == {'Red': 14, 'Orange': 13, 'Blue': 24, 'Green': 11, 'Indigo': 12, 'Violet': 12, 'Yellow': 14}, \"Wrong Answer\"\n",
        "assert colour_count(['Yellow', 'Red', 'Red', 'Violet', 'Green', 'Orange', 'Violet', 'Green', 'Red', 'Yellow', 'Blue', 'Green', 'Blue', 'Green', 'Green', 'Green', 'Violet', 'Orange', 'Violet', 'Yellow', 'Orange', 'Blue', 'Yellow', 'Blue', 'Green', 'Blue', 'Red', 'Orange', 'Yellow', 'Indigo', 'Yellow', 'Violet', 'Green', 'Indigo', 'Green', 'Green', 'Green', 'Red', 'Blue', 'Green', 'Yellow', 'Orange', 'Yellow', 'Red', 'Indigo', 'Violet', 'Green', 'Indigo', 'Indigo', 'Orange', 'Yellow', 'Blue', 'Blue', 'Orange', 'Red', 'Orange', 'Blue', 'Orange', 'Violet', 'Violet', 'Red', 'Orange', 'Yellow', 'Violet', 'Green', 'Indigo', 'Blue', 'Yellow', 'Red', 'Orange', 'Blue', 'Blue', 'Violet', 'Blue', 'Green', 'Red', 'Red', 'Indigo', 'Yellow', 'Blue', 'Yellow', 'Orange', 'Blue', 'Green', 'Indigo', 'Red', 'Indigo', 'Blue', 'Orange', 'Yellow', 'Violet', 'Orange', 'Red', 'Green', 'Green', 'Green', 'Indigo', 'Blue', 'Green', 'Blue', 'Yellow', 'Violet', 'Orange', 'Green', 'Red', 'Yellow', 'Yellow', 'Blue', 'Green', 'Blue', 'Red', 'Orange', 'Orange', 'Red', 'Orange', 'Violet', 'Yellow', 'Green', 'Orange', 'Indigo', 'Yellow', 'Yellow', 'Blue', 'Red', 'Green', 'Blue', 'Yellow', 'Yellow', 'Green', 'Yellow', 'Orange', 'Green', 'Orange', 'Indigo', 'Red', 'Violet', 'Green', 'Blue', 'Violet', 'Orange', 'Green', 'Yellow', 'Blue', 'Blue', 'Blue', 'Orange', 'Yellow', 'Blue', 'Green', 'Orange', 'Indigo', 'Violet', 'Blue', 'Red', 'Red', 'Blue', 'Green', 'Red', 'Orange', 'Red', 'Orange', 'Violet', 'Indigo', 'Indigo', 'Orange', 'Blue', 'Violet', 'Orange', 'Green', 'Red', 'Indigo', 'Green', 'Blue', 'Blue', 'Indigo', 'Red', 'Orange', 'Red', 'Blue', 'Red', 'Red', 'Yellow', 'Violet', 'Violet', 'Violet', 'Violet', 'Red', 'Orange', 'Violet', 'Green', 'Blue', 'Indigo', 'Violet', 'Red', 'Red', 'Red', 'Violet', 'Yellow', 'Violet', 'Orange']) == {'Yellow': 27, 'Red': 31, 'Violet': 26, 'Green': 33, 'Orange': 31, 'Blue': 34, 'Indigo': 18}, \"Wrong Answer\"\n",
        "assert colour_count(['Orange', 'Green', 'Orange', 'Green', 'Green', 'Indigo', 'Indigo', 'Orange', 'Indigo', 'Green', 'Violet', 'Yellow', 'Indigo', 'Blue', 'Green', 'Indigo', 'Orange', 'Red', 'Green', 'Yellow', 'Violet', 'Yellow', 'Red', 'Indigo', 'Orange', 'Red', 'Violet', 'Blue', 'Red', 'Indigo', 'Violet', 'Red', 'Yellow', 'Violet', 'Blue', 'Orange', 'Indigo', 'Blue', 'Blue', 'Blue', 'Orange', 'Green', 'Blue', 'Violet', 'Violet', 'Yellow', 'Blue', 'Blue', 'Indigo', 'Blue', 'Orange', 'Green', 'Blue', 'Green', 'Yellow', 'Indigo', 'Blue', 'Yellow', 'Yellow', 'Blue', 'Green', 'Green', 'Yellow', 'Blue', 'Indigo', 'Blue', 'Indigo', 'Yellow', 'Indigo', 'Indigo', 'Blue', 'Red', 'Indigo', 'Red', 'Orange', 'Orange', 'Blue', 'Yellow', 'Green', 'Blue', 'Blue', 'Red', 'Orange', 'Yellow', 'Green', 'Green', 'Yellow', 'Green', 'Violet', 'Yellow', 'Green', 'Red', 'Orange', 'Blue', 'Red', 'Violet', 'Yellow', 'Red', 'Indigo', 'Yellow', 'Indigo', 'Yellow', 'Green', 'Yellow', 'Green', 'Yellow', 'Blue', 'Red', 'Green', 'Indigo', 'Blue', 'Orange', 'Orange', 'Orange', 'Blue', 'Yellow', 'Yellow', 'Red', 'Red', 'Yellow', 'Yellow', 'Orange', 'Red', 'Indigo', 'Blue', 'Violet', 'Orange', 'Indigo', 'Orange', 'Blue', 'Indigo', 'Violet', 'Orange', 'Indigo', 'Green', 'Yellow', 'Red', 'Violet', 'Indigo', 'Orange', 'Red', 'Violet', 'Blue', 'Green', 'Yellow', 'Blue', 'Blue', 'Yellow', 'Green', 'Violet', 'Red', 'Indigo', 'Red', 'Violet', 'Yellow', 'Yellow', 'Blue', 'Yellow', 'Blue', 'Indigo', 'Indigo', 'Red', 'Green', 'Indigo', 'Indigo', 'Green', 'Red', 'Green', 'Red', 'Blue', 'Blue', 'Orange', 'Yellow', 'Yellow', 'Yellow', 'Red', 'Blue', 'Orange', 'Blue', 'Violet', 'Violet', 'Violet', 'Red', 'Indigo', 'Red', 'Orange', 'Red', 'Yellow', 'Orange', 'Violet', 'Indigo', 'Indigo', 'Yellow', 'Indigo', 'Yellow', 'Indigo', 'Indigo', 'Indigo', 'Indigo', 'Violet']) == {'Orange': 24, 'Green': 25, 'Indigo': 36, 'Violet': 20, 'Yellow': 35, 'Blue': 34, 'Red': 26}, \"Wrong Answer\"\n",
        "assert colour_count(['Green', 'Red', 'Blue', 'Blue', 'Red', 'Indigo', 'Orange', 'Yellow', 'Blue', 'Red', 'Indigo', 'Violet', 'Violet', 'Violet', 'Blue', 'Orange', 'Indigo', 'Blue', 'Green', 'Indigo', 'Indigo', 'Orange', 'Green', 'Orange', 'Blue', 'Violet', 'Green', 'Indigo', 'Yellow', 'Green', 'Red', 'Red', 'Green', 'Blue', 'Yellow', 'Red', 'Indigo', 'Indigo', 'Blue', 'Orange', 'Red', 'Yellow', 'Red', 'Indigo', 'Green', 'Green', 'Yellow', 'Indigo', 'Green', 'Red', 'Orange', 'Yellow', 'Indigo', 'Green', 'Violet', 'Red', 'Yellow', 'Red', 'Blue', 'Green', 'Red', 'Blue', 'Orange', 'Yellow', 'Orange', 'Red', 'Indigo', 'Violet', 'Red', 'Orange', 'Red', 'Yellow', 'Blue', 'Green', 'Yellow', 'Red', 'Orange', 'Orange', 'Indigo', 'Blue', 'Yellow', 'Yellow', 'Orange', 'Blue', 'Blue', 'Yellow', 'Blue', 'Blue', 'Green', 'Violet', 'Indigo', 'Orange', 'Yellow', 'Green', 'Red', 'Violet', 'Indigo', 'Orange', 'Yellow', 'Yellow', 'Orange', 'Green', 'Violet', 'Green', 'Green', 'Green', 'Yellow', 'Yellow', 'Blue', 'Red', 'Green', 'Green', 'Red', 'Violet', 'Violet', 'Violet', 'Violet', 'Violet', 'Violet', 'Red', 'Green', 'Violet', 'Red', 'Violet', 'Green', 'Blue', 'Orange', 'Green', 'Violet', 'Green', 'Indigo', 'Green', 'Orange', 'Orange', 'Blue', 'Violet', 'Blue', 'Blue', 'Blue', 'Green', 'Orange', 'Yellow', 'Blue', 'Green', 'Indigo', 'Orange', 'Blue', 'Green', 'Orange', 'Orange', 'Green', 'Red', 'Yellow', 'Violet', 'Green', 'Green', 'Red', 'Indigo', 'Red', 'Orange', 'Green', 'Indigo', 'Violet', 'Yellow', 'Indigo', 'Red', 'Orange', 'Yellow', 'Indigo', 'Indigo', 'Violet', 'Violet', 'Yellow', 'Green', 'Orange', 'Green', 'Blue', 'Indigo', 'Blue', 'Blue', 'Green', 'Indigo', 'Violet', 'Blue', 'Violet', 'Yellow', 'Red', 'Orange', 'Green', 'Orange', 'Yellow', 'Blue', 'Yellow', 'Yellow', 'Green', 'Yellow', 'Indigo', 'Violet', 'Indigo', 'Red']) == {'Green': 37, 'Red': 27, 'Blue': 29, 'Indigo': 26, 'Orange': 27, 'Yellow': 28, 'Violet': 26}, \"Wrong Answer\"\n",
        "assert colour_count(['Orange', 'Green', 'Orange', 'Orange', 'Red', 'Violet', 'Orange', 'Yellow', 'Violet', 'Green', 'Green', 'Violet', 'Red', 'Violet', 'Green', 'Blue', 'Indigo', 'Orange', 'Green', 'Indigo', 'Orange', 'Yellow', 'Red', 'Violet', 'Yellow', 'Green', 'Violet', 'Blue', 'Indigo', 'Green', 'Violet', 'Yellow', 'Green', 'Orange', 'Orange', 'Blue', 'Violet', 'Orange', 'Indigo', 'Yellow', 'Red', 'Indigo', 'Green', 'Blue', 'Indigo', 'Red', 'Green', 'Green', 'Green', 'Green', 'Orange', 'Indigo', 'Green', 'Orange', 'Orange', 'Yellow', 'Red', 'Yellow', 'Indigo', 'Red', 'Violet', 'Violet', 'Yellow', 'Violet', 'Red', 'Green', 'Orange', 'Green', 'Green', 'Green', 'Red', 'Orange', 'Orange', 'Orange', 'Green', 'Orange', 'Violet', 'Indigo', 'Green', 'Yellow', 'Violet', 'Green', 'Blue', 'Blue', 'Orange', 'Blue', 'Blue', 'Violet', 'Yellow', 'Blue', 'Orange', 'Yellow', 'Blue', 'Indigo', 'Violet', 'Indigo', 'Blue', 'Orange', 'Red', 'Indigo', 'Red', 'Yellow', 'Blue', 'Orange', 'Yellow', 'Blue', 'Violet', 'Violet', 'Blue', 'Orange', 'Orange', 'Indigo', 'Blue', 'Yellow', 'Indigo', 'Green', 'Green', 'Red', 'Indigo', 'Indigo', 'Yellow', 'Orange', 'Orange', 'Yellow', 'Green', 'Indigo', 'Red', 'Yellow', 'Blue', 'Red', 'Indigo', 'Yellow', 'Yellow', 'Blue', 'Yellow', 'Blue', 'Red', 'Blue', 'Green', 'Blue', 'Orange', 'Orange', 'Yellow', 'Indigo', 'Indigo', 'Blue', 'Red', 'Blue', 'Green', 'Red', 'Red', 'Blue', 'Orange', 'Blue', 'Violet', 'Blue', 'Violet', 'Red', 'Red', 'Yellow', 'Violet', 'Orange', 'Indigo', 'Yellow', 'Red', 'Blue', 'Red', 'Red', 'Blue', 'Blue', 'Blue', 'Green', 'Violet', 'Blue', 'Red', 'Indigo', 'Orange', 'Orange', 'Yellow', 'Violet', 'Yellow', 'Indigo', 'Orange', 'Blue', 'Red', 'Green', 'Red', 'Green', 'Green', 'Indigo', 'Blue', 'Yellow', 'Orange', 'Blue', 'Green', 'Violet', 'Red', 'Yellow', 'Orange', 'Yellow', 'Blue', 'Yellow', 'Orange', 'Orange', 'Yellow', 'Indigo', 'Yellow', 'Indigo', 'Green', 'Blue', 'Yellow', 'Green', 'Indigo', 'Blue', 'Green', 'Yellow', 'Violet', 'Red', 'Orange', 'Yellow', 'Violet', 'Red', 'Indigo', 'Blue', 'Green', 'Green', 'Indigo', 'Green', 'Red', 'Blue', 'Red', 'Yellow', 'Yellow', 'Indigo', 'Red', 'Violet', 'Green', 'Red', 'Yellow', 'Violet', 'Orange', 'Red', 'Orange', 'Blue', 'Green', 'Blue', 'Blue', 'Orange', 'Orange', 'Yellow', 'Orange', 'Yellow', 'Orange', 'Yellow', 'Orange', 'Violet', 'Orange', 'Indigo', 'Red', 'Red', 'Indigo', 'Orange', 'Blue', 'Yellow', 'Violet', 'Blue', 'Yellow', 'Green', 'Orange', 'Orange', 'Yellow', 'Green', 'Orange', 'Orange', 'Blue', 'Orange', 'Orange', 'Blue', 'Indigo', 'Violet', 'Blue', 'Orange', 'Yellow', 'Indigo', 'Green', 'Yellow', 'Blue', 'Indigo', 'Blue', 'Orange', 'Orange', 'Red', 'Violet', 'Orange', 'Violet', 'Green', 'Violet', 'Orange', 'Orange', 'Blue', 'Yellow', 'Blue', 'Red', 'Green', 'Green', 'Orange', 'Green', 'Blue', 'Violet', 'Orange', 'Violet', 'Violet', 'Blue', 'Indigo', 'Yellow', 'Green', 'Yellow', 'Blue', 'Yellow', 'Yellow', 'Indigo', 'Blue', 'Red', 'Green', 'Orange', 'Blue', 'Indigo', 'Yellow', 'Blue', 'Violet', 'Green', 'Blue', 'Red', 'Green', 'Indigo', 'Indigo', 'Red', 'Green', 'Indigo', 'Orange', 'Green', 'Violet', 'Orange', 'Blue', 'Blue', 'Red', 'Blue', 'Indigo', 'Orange', 'Blue', 'Yellow', 'Red', 'Violet', 'Yellow', 'Green', 'Blue', 'Red', 'Yellow', 'Violet', 'Violet', 'Green', 'Yellow', 'Green', 'Red', 'Blue', 'Yellow', 'Indigo', 'Green', 'Orange', 'Violet', 'Orange', 'Indigo', 'Indigo', 'Yellow', 'Red', 'Yellow', 'Indigo', 'Orange', 'Red', 'Red', 'Green', 'Yellow', 'Orange', 'Orange', 'Violet', 'Red', 'Yellow', 'Violet', 'Red', 'Green', 'Blue', 'Blue', 'Red', 'Red', 'Yellow', 'Indigo', 'Green', 'Orange', 'Blue', 'Green', 'Green', 'Red', 'Violet', 'Green', 'Indigo', 'Blue', 'Red', 'Orange', 'Indigo', 'Blue', 'Yellow', 'Green', 'Yellow', 'Red', 'Blue', 'Green', 'Red', 'Blue', 'Red', 'Red', 'Green', 'Indigo', 'Red', 'Violet', 'Green', 'Indigo', 'Indigo', 'Green', 'Violet', 'Orange', 'Violet', 'Yellow', 'Green', 'Orange', 'Indigo', 'Green', 'Blue', 'Indigo', 'Orange', 'Green', 'Violet', 'Blue', 'Blue', 'Green', 'Yellow', 'Red', 'Green', 'Blue', 'Violet', 'Indigo', 'Green', 'Blue', 'Indigo', 'Blue', 'Red', 'Yellow', 'Orange', 'Violet', 'Red', 'Violet', 'Yellow', 'Violet', 'Blue', 'Violet', 'Indigo', 'Yellow', 'Blue', 'Red', 'Orange', 'Violet', 'Green', 'Indigo', 'Red', 'Indigo', 'Blue', 'Yellow', 'Yellow', 'Yellow', 'Yellow', 'Red', 'Violet', 'Yellow', 'Violet', 'Violet', 'Orange', 'Orange', 'Red', 'Blue', 'Green', 'Orange', 'Red', 'Red', 'Yellow', 'Orange', 'Green', 'Red', 'Green', 'Indigo', 'Blue', 'Blue']) == {'Orange': 80, 'Green': 77, 'Red': 69, 'Violet': 58, 'Yellow': 74, 'Blue': 82, 'Indigo': 60}, \"Wrong Answer\"\n",
        "print(\"All Correct!\")"
      ],
      "execution_count": null,
      "outputs": []
    },
    {
      "cell_type": "markdown",
      "metadata": {
        "id": "o9j6RE47mGBR"
      },
      "source": [
        "# Congratulations 🎉\n",
        "\n",
        "You've finished the notebook 📕 for Practice 3! Hopefully, you've improved your coding skills and learnt something new!\n",
        "\n",
        "**💻 with ❤️ by Code for Hope**"
      ]
    }
  ]
}