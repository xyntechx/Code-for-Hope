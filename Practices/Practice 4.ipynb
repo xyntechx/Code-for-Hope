{
  "nbformat": 4,
  "nbformat_minor": 0,
  "metadata": {
    "colab": {
      "name": "Practice 4",
      "provenance": [],
      "collapsed_sections": []
    },
    "kernelspec": {
      "name": "python3",
      "display_name": "Python 3"
    },
    "language_info": {
      "name": "python"
    }
  },
  "cells": [
    {
      "cell_type": "markdown",
      "metadata": {
        "id": "vcIjaoTSU2B2"
      },
      "source": [
        "# Welcome!\n",
        "\n",
        "Hello! Welcome to the notebook 📕 for Practice 4!\n",
        "\n",
        "This notebook doesn't have any questions, because it is for you to make your own project using the concepts you have learnt!\n",
        "\n",
        "Be creative and create your own solutions! You can make a game, a simulator, an actual notebook, and many more!\n",
        "\n",
        "The possibilities are endless!\n",
        "\n",
        "# Let's Get Started 🎉\n",
        "\n",
        "To run/activate a cell:\n",
        "- Click the **play icon ▶️** beside the cell, or\n",
        "- Press **cmd/shift + enter** (Mac) or **ctrl/shift + enter** (Windows) after selecting the cell"
      ]
    },
    {
      "cell_type": "code",
      "metadata": {
        "id": "5Qo_yaVq_rVl"
      },
      "source": [
        "# Your project starts here!\n",
        "\n",
        "\n"
      ],
      "execution_count": null,
      "outputs": []
    },
    {
      "cell_type": "markdown",
      "metadata": {
        "id": "o9j6RE47mGBR"
      },
      "source": [
        "# Congratulations 🎉\n",
        "\n",
        "You've finished the notebook 📕 for Practice 4 and the whole course! Hopefully, you've become a confident coder ready to learn more advanced concepts in the amazing world of programming!\n",
        "\n",
        "**💻 with ❤️ by Code for Hope**"
      ]
    }
  ]
}