{
  "nbformat": 4,
  "nbformat_minor": 0,
  "metadata": {
    "colab": {
      "name": "Practice 2",
      "provenance": [],
      "collapsed_sections": []
    },
    "kernelspec": {
      "name": "python3",
      "display_name": "Python 3"
    },
    "language_info": {
      "name": "python"
    }
  },
  "cells": [
    {
      "cell_type": "markdown",
      "metadata": {
        "id": "vcIjaoTSU2B2"
      },
      "source": [
        "# Welcome!\n",
        "\n",
        "Hello! Welcome to the notebook 📕 for Practice 2!\n",
        "\n",
        "This notebook covers more basics of Python programming discussed in Lesson 2.\n",
        "\n",
        "# Let's Get Started 🎉\n",
        "\n",
        "To run/activate a cell:\n",
        "- Click the **play icon ▶️** beside the cell, or\n",
        "- Press **cmd/shift + enter** (Mac) or **ctrl/shift + enter** (Windows) after selecting the cell"
      ]
    },
    {
      "cell_type": "markdown",
      "metadata": {
        "id": "ckarmx_eXi0Y"
      },
      "source": [
        "# Task 1\n",
        "\n",
        "Using string concatenation, construct a short story involving the variables defined for you below!\n",
        "\n",
        "P.S. You can use the variables in any order!"
      ]
    },
    {
      "cell_type": "code",
      "metadata": {
        "id": "HQT69XMqrla2"
      },
      "source": [
        "noun1 = \"house\"\n",
        "noun2 = \"paper\"\n",
        "noun3 = \"baseball bat\"\n",
        "verb1 = \"cry\"\n",
        "verb2 = \"nod\"\n",
        "verb3 = \"congratulate\"\n",
        "adjective1 = \"wide\"\n",
        "adjective2 = \"creative\"\n",
        "adjective3 = \"sleepy\""
      ],
      "execution_count": null,
      "outputs": []
    },
    {
      "cell_type": "code",
      "metadata": {
        "id": "EiEE3RaiXMlg"
      },
      "source": [
        "# Write your code in this cell\n",
        "story = \n",
        "\n",
        "\n",
        "\n",
        "print(story)"
      ],
      "execution_count": null,
      "outputs": []
    },
    {
      "cell_type": "markdown",
      "metadata": {
        "id": "Ma9xXtgVpSG8"
      },
      "source": [
        "# Task 2\n",
        "\n",
        "Write the following lines of code but using indexing and slicing of string `s`!\n",
        "\n",
        "```python\n",
        "a = \"qw\"\n",
        "b = \"tyas\"\n",
        "c = \"h\"\n",
        "d = \"rys\"\n",
        "e = \"hgfdsaytrewq\"\n",
        "```"
      ]
    },
    {
      "cell_type": "code",
      "metadata": {
        "id": "AZXitsRLpW9A"
      },
      "source": [
        "s = \"qwertyasdfgh\""
      ],
      "execution_count": null,
      "outputs": []
    },
    {
      "cell_type": "code",
      "metadata": {
        "id": "fRhBl4azpb59"
      },
      "source": [
        "# Write your code in this cell\n",
        "a = \n",
        "\n",
        "\n"
      ],
      "execution_count": null,
      "outputs": []
    },
    {
      "cell_type": "code",
      "metadata": {
        "id": "_lYNtxKbpcJf"
      },
      "source": [
        "# Write your code in this cell\n",
        "b = \n",
        "\n",
        "\n"
      ],
      "execution_count": null,
      "outputs": []
    },
    {
      "cell_type": "code",
      "metadata": {
        "id": "7zdoJ5nFpcjd"
      },
      "source": [
        "# Write your code in this cell\n",
        "c = \n",
        "\n",
        "\n"
      ],
      "execution_count": null,
      "outputs": []
    },
    {
      "cell_type": "code",
      "metadata": {
        "id": "iKzsARuKpc22"
      },
      "source": [
        "# Write your code in this cell\n",
        "d = \n",
        "\n",
        "\n"
      ],
      "execution_count": null,
      "outputs": []
    },
    {
      "cell_type": "code",
      "metadata": {
        "id": "g7kaVb04sdBC"
      },
      "source": [
        "# Write your code in this cell\n",
        "e = \n",
        "\n",
        "\n"
      ],
      "execution_count": null,
      "outputs": []
    },
    {
      "cell_type": "markdown",
      "metadata": {
        "id": "19QlhAK4pmJP"
      },
      "source": [
        "# Task 3\n",
        "\n",
        "Make a simple calculator that takes inputs from the user and can perform addition, subtraction, multiplication, and division.\n",
        "\n",
        "Print out the result of the calculation!\n",
        "\n",
        "Hint: Use if/else statements.\n",
        "\n",
        "P.S. Feel free to add more operations to the calculator if you want to!"
      ]
    },
    {
      "cell_type": "code",
      "metadata": {
        "id": "y_sGGblupmJg"
      },
      "source": [
        "# Write your code in this cell\n",
        "\n",
        "\n"
      ],
      "execution_count": null,
      "outputs": []
    },
    {
      "cell_type": "markdown",
      "metadata": {
        "id": "qbixBcxIqrFy"
      },
      "source": [
        "# Task 4\n",
        "\n",
        "Peter has a test next week. To pass the test, Peter has to score more than or equal to 50 marks. To get a distinction, Peter has to score more than or equal to 70 marks. It is important that Peter does not cheat or else he will fail.\n",
        "\n",
        "Print out `\"Pass\"` if Peter passes the test.\n",
        "\n",
        "Print out `\"Distinction\"` if Peter gets a distinction.\n",
        "\n",
        "Otherwise, print out `\"Fail\"`."
      ]
    },
    {
      "cell_type": "code",
      "metadata": {
        "id": "6sUZjfTVqrFz"
      },
      "source": [
        "# Write your code in this cell\n",
        "\n",
        "\n"
      ],
      "execution_count": null,
      "outputs": []
    },
    {
      "cell_type": "markdown",
      "metadata": {
        "id": "X_rhd5zi0tq1"
      },
      "source": [
        "# Task 5\n",
        "\n",
        "Print out the longest word in the paragraph below.\n",
        "\n",
        "Hint: Use a for loop, if/else statements, and the 'in' keyword (google it!)."
      ]
    },
    {
      "cell_type": "code",
      "metadata": {
        "id": "PLtlh5_E0tq5"
      },
      "source": [
        "paragraph = \"lorem ipsum dolor sit amet, consectetur adipiscing elit. nulla auctor odio non lobortis dictum. ut aliquam velit magna. aenean ultrices facilisis posuere. aliquam erat volutpat. integer lacinia feugiat felis, ut vestibulum dui hendrerit a. curabitur pellentesque nibh quis gravida gravida. cras dictum porta cursus. maecenas lacus orci, dictum sit amet placerat at, dictum non tellus. praesent at condimentum magna. donec et urna et ante cursus consectetur non suscipit erat. vivamus fringilla rutrum sodales. cras sit amet neque ligula. pellentesque ut sagittis ex.\"\n",
        "# Write your code in this cell\n",
        "\n",
        "\n"
      ],
      "execution_count": null,
      "outputs": []
    },
    {
      "cell_type": "markdown",
      "metadata": {
        "id": "o9j6RE47mGBR"
      },
      "source": [
        "# Congratulations 🎉\n",
        "\n",
        "You've finished the notebook 📕 for Practice 2! Hopefully, you've improved your coding skills and learnt something new!\n",
        "\n",
        "**💻 with ❤️ by Code for Hope**"
      ]
    }
  ]
}